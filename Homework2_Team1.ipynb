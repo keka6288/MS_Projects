{
  "nbformat": 4,
  "nbformat_minor": 0,
  "metadata": {
    "colab": {
      "provenance": []
    },
    "kernelspec": {
      "name": "python3",
      "display_name": "Python 3"
    },
    "language_info": {
      "name": "python"
    },
    "accelerator": "GPU",
    "gpuClass": "standard"
  },
  "cells": [
    {
      "cell_type": "markdown",
      "source": [
        "# Homework 2, MSBC.5190 Modern Artificial Intelligence S23\n",
        "\n",
        "\n",
        "**Teammates: Kersti Kammerer, Alyssa Duke, Wes Weber**\n",
        "\n",
        "**Teamname: Team1**\n",
        "\n",
        "Handout 03/10/2022 4pm, **due 03/24/2022 by 4pm**. Please submit through Canvas. Each team only needs to submit one copy.\n",
        "\n",
        "Important information about submission:\n",
        "- Write all code, text (answers), and figures in the notebook.\n",
        "- Please make sure that the submitted notebook has been run and the cell outputs are visible.\n",
        "- Please print the notebook as PDF and submit it together with the notebook. Your submission should contain two files: `homework2-teamname.ipynb` and `homework2-teamname.pdf`\n",
        "\n",
        "The goal of the homework are three folds:\n",
        "\n",
        "\n",
        "1.   Explore word embedding \n",
        "2.   Understand contextual word embedding using BERT\n",
        "3.   Text classificaiton with both traditional machine learning methods and deep learning methods\n",
        "\n",
        "**A note about GPU**: You'd better use GPU to run it, otherwise it will be quite slow to train deep learning models.  "
      ],
      "metadata": {
        "id": "CReTLT9gZZBi"
      }
    },
    {
      "cell_type": "markdown",
      "source": [
        "First, import the packages or modules required for this homework."
      ],
      "metadata": {
        "id": "zE0gwmvro7l8"
      }
    },
    {
      "cell_type": "code",
      "source": [
        "################################################################################\n",
        "# TODO: Fill in your codes                                                     #\n",
        "# Import packages or modules                                                   #\n",
        "################################################################################\n",
        "import tensorflow as tf\n",
        "import numpy as np\n",
        "from tensorflow import keras"
      ],
      "metadata": {
        "id": "2Ju3_EJHDU4j"
      },
      "execution_count": null,
      "outputs": []
    },
    {
      "cell_type": "markdown",
      "source": [
        "## Part I: Explore Word Embedding (15%)\n",
        "\n",
        "Word embeddings are useful representation of words that capture information about word meaning as well as location. They are used as a fundamental component for downstream NLP tasks, e.g., text classification. In this part, we will explore the embeddings produced by [GloVe (global vectors for word representation)](https://nlp.stanford.edu/projects/glove/). It is simlar to Word2Vec but differs in their underlying methodology: in GloVe, word embeddings are learned based on global word-word co-occurrence statistics. Both Word2Vec and GloVe tend to produce vector-space embeddings that perform similarly in downstream NLP tasks.\n",
        "\n",
        "\n"
      ],
      "metadata": {
        "id": "QDTrDzLXMX_X"
      }
    },
    {
      "cell_type": "markdown",
      "source": [
        "We first load the GloVe vectors"
      ],
      "metadata": {
        "id": "AlyvKW4QWHni"
      }
    },
    {
      "cell_type": "code",
      "source": [
        "import gensim.downloader as api\n",
        "# download the model and return as object ready for use\n",
        "glove_model = api.load('glove-wiki-gigaword-100') \n",
        "#load the word vectors from the model     \n",
        "glove_word_vectors = glove_model.wv                        "
      ],
      "metadata": {
        "id": "RqFT4Rz0SvMD",
        "colab": {
          "base_uri": "https://localhost:8080/"
        },
        "outputId": "a5e33e5f-587a-498f-ccf7-42b2b3d9c1d6"
      },
      "execution_count": null,
      "outputs": [
        {
          "output_type": "stream",
          "name": "stderr",
          "text": [
            "<ipython-input-12-4c272531b1ec>:5: DeprecationWarning: Call to deprecated `wv` (Attribute will be removed in 4.0.0, use self instead).\n",
            "  glove_word_vectors = glove_model.wv\n"
          ]
        }
      ]
    },
    {
      "cell_type": "markdown",
      "source": [
        "Take a look at the vocabulary size and dimensionality of the embedding space"
      ],
      "metadata": {
        "id": "tPHjODcJ7qn-"
      }
    },
    {
      "cell_type": "code",
      "source": [
        "print('vocabulary size = ', len(glove_word_vectors.vocab))\n",
        "print('embedding dimensionality = ', glove_word_vectors['happy'].shape)"
      ],
      "metadata": {
        "id": "PMAZ6Mx0Tomt",
        "colab": {
          "base_uri": "https://localhost:8080/"
        },
        "outputId": "1d3918a6-c48b-40e8-85bd-663ee5c7bab0"
      },
      "execution_count": null,
      "outputs": [
        {
          "output_type": "stream",
          "name": "stdout",
          "text": [
            "vocabulary size =  400000\n",
            "embedding dimensionality =  (100,)\n"
          ]
        }
      ]
    },
    {
      "cell_type": "markdown",
      "source": [
        "\n",
        "What is embedding exactly?"
      ],
      "metadata": {
        "id": "D8hGE5qYAhb1"
      }
    },
    {
      "cell_type": "code",
      "source": [
        "# Check word embedding for 'happy'\n",
        "# You can access the embedding of a word with glove_word_vectors[word] if word\n",
        "# is in the vocabulary\n",
        "glove_word_vectors['happy']"
      ],
      "metadata": {
        "id": "bd4n-3nTUp82",
        "colab": {
          "base_uri": "https://localhost:8080/"
        },
        "outputId": "78ccba5c-8cab-461d-88de-5d4a72a806fd"
      },
      "execution_count": null,
      "outputs": [
        {
          "output_type": "execute_result",
          "data": {
            "text/plain": [
              "array([-0.090436 ,  0.19636  ,  0.29474  , -0.47706  , -0.80436  ,\n",
              "        0.3078   , -0.55205  ,  0.58453  , -0.17056  , -0.84846  ,\n",
              "        0.19528  ,  0.23671  ,  0.46827  , -0.58977  , -0.12163  ,\n",
              "       -0.24697  , -0.072944 ,  0.17259  , -0.0485   ,  0.9527   ,\n",
              "        0.50629  ,  0.58497  , -0.19367  , -0.45459  , -0.031095 ,\n",
              "        0.51633  , -0.24052  , -0.1007   ,  0.53627  ,  0.024225 ,\n",
              "       -0.50162  ,  0.73692  ,  0.49468  , -0.34744  ,  0.89337  ,\n",
              "        0.057439 , -0.19127  ,  0.39333  ,  0.21182  , -0.89837  ,\n",
              "        0.078704 , -0.16344  ,  0.45261  , -0.41096  , -0.19499  ,\n",
              "       -0.13489  , -0.016313 , -0.021849 ,  0.17136  , -1.2413   ,\n",
              "        0.079503 , -0.91144  ,  0.35699  ,  0.36289  , -0.24934  ,\n",
              "       -2.1196   ,  0.14534  ,  0.52964  ,  0.90134  ,  0.033603 ,\n",
              "        0.022809 ,  0.70625  , -1.0362   , -0.59809  ,  0.70592  ,\n",
              "       -0.072793 ,  0.67033  ,  0.52763  , -0.47807  , -0.67374  ,\n",
              "        0.36632  , -0.38284  , -0.10349  , -0.6402   ,  0.18104  ,\n",
              "        0.82568  ,  0.066403 , -0.40791  , -0.083813 , -0.36487  ,\n",
              "        0.045362 , -0.073527 , -0.20117  ,  0.37441  , -1.4024   ,\n",
              "       -0.25605  , -0.4708   , -0.16145  , -0.87921  , -0.36325  ,\n",
              "       -0.17357  , -0.077983 ,  0.43273  ,  0.0089295, -1.0316   ,\n",
              "       -0.11589  , -0.34524  ,  0.11514  , -0.40812  ,  0.20203  ],\n",
              "      dtype=float32)"
            ]
          },
          "metadata": {},
          "execution_count": 14
        }
      ]
    },
    {
      "cell_type": "markdown",
      "source": [
        "With word embeddings learned from GloVe or Word2Vec, words with similar semantic meanings tend to have vectors that are close together. Please code and calculate the **cosine similarities** between words based on their embeddings (i.e., word vectors).\n",
        "\n",
        "For each of the following words in occupation, compute its cosine similarty to 'woman' and its similarity to 'man' and check which gender is more similar. \n",
        "\n",
        "*occupation = {homemaker, nurse, receptionist, librarian, socialite, hairdresser, nanny, bookkeeper, stylist, housekeeper, maestro, skipper, protege, philosopher, captain, architect, financier, warrior, broadcaster, magician}*\n",
        "\n",
        "**Inline Question #1:** \n",
        "- Fill in the table below with cosine similarities between words in occupation list and {woman, man}. Please show only two digits after decimal.\n",
        "- Which words are more similar to 'woman' than to 'man'?\n",
        "- Which words are more similar to 'man' than to 'woman'?\n",
        "- Do you see any issue here? What do you think might cause these issues?\n",
        "\n",
        "**Your Answer:**\n",
        "\n",
        "Words more similar to woman: housemaker, nurse, receptionist, librarian, socialite, hairdresser, nanny, bookkeeper, stylist, housekeeper.\n",
        "Words more similar to man: maestro, skipper, protege, philosopher, captain, architect, financier, warrior, broadcaster, magician. \n",
        "\n",
        "An issue in these cosine similarities is that these embeddings may have been trained on data which may contain biases and stereotypes or might be outdated, which may impact the similarity scores. We can see some of the stereotypes in the scores because jobs such as nurse, homemaker, nanny, etc. are more similar to women while warrior, financier, architect, etc. are more aligned with men. These associations might not accurately reflect the abilities of male or female individuals and can contribute to gender discrimination in various fields.\n",
        "\n",
        "\n",
        "\n",
        "| `similarity`|    woman  |      man     |\n",
        "|-------------|-----------|--------------|\n",
        "| homemaker   |   0.43        |       0.24       |\n",
        "| nurse       |    0.61       |       0.46     |\n",
        "| receptionist|     0.34      |        0.19      |\n",
        "| librarian   |    0.34       |       0.23       |\n",
        "| socialite   |    0.42       |        0.27      |\n",
        "| hairdresser |     0.39      |        0.26      |\n",
        "| nanny       |    0.36       |        0.29      |\n",
        "| bookkeeper  |     0.21      |       0.14       |\n",
        "| stylist     |     0.31      |      0.25        |\n",
        "| housekeeper |     0.46      |        0.31      |\n",
        "| maestro     |   -0.02        |       0.14       |\n",
        "| skipper     |    0.15       |      0.34        |\n",
        "| protege     |     0.12      |       0.2       |\n",
        "| philosopher |   0.23        |      0.28        |\n",
        "| captain     |   0.31        |       0.53       |\n",
        "| architect   |    0.22       |       0.3       |\n",
        "| financier   |     0.14      |        0.26      |\n",
        "| warrior     |    0.39       |      0.51        |\n",
        "| broadcaster |     0.23      |        0.25      |\n",
        "| magician    |    0.27       |      0.38        |\n"
      ],
      "metadata": {
        "id": "V4fKXR-gUQUl"
      }
    },
    {
      "cell_type": "code",
      "source": [
        "################################################################################\n",
        "# TODO: Fill in your codes                                                     #                                                          #\n",
        "################################################################################\n",
        "occupation = [\"homemaker\", \"nurse\", \"receptionist\", \"librarian\", \"socialite\", \"hairdresser\", \n",
        "              \"nanny\", \"bookkeeper\", \"stylist\", \"housekeeper\", \"maestro\", \"skipper\", \"protege\", \n",
        "              \"philosopher\", \"captain\", \"architect\", \"financier\", \"warrior\", \"broadcaster\", \"magician\"]\n",
        "male_sim = []\n",
        "for i in occupation:\n",
        "  male_sim.append(glove_model.similarity(w1=i, w2='man'))\n",
        "  male_sim2 = [round(i, 2) for i in male_sim]\n",
        "\n",
        "print(f\"man similarity = {male_sim2}\")\n",
        "\n",
        "female_sim = []\n",
        "for i in occupation:\n",
        "  female_sim.append(glove_model.similarity(w1=i, w2='woman'))\n",
        "  female_sim2 = [round(i, 2) for i in female_sim]\n",
        "\n",
        "print(f\"woman similarity = {female_sim2}\")\n"
      ],
      "metadata": {
        "id": "2LKYnnrjjc1B",
        "colab": {
          "base_uri": "https://localhost:8080/"
        },
        "outputId": "9478b08a-40c2-49e3-f45a-53b264d7f6c4"
      },
      "execution_count": null,
      "outputs": [
        {
          "output_type": "stream",
          "name": "stdout",
          "text": [
            "man similarity = [0.24, 0.46, 0.19, 0.23, 0.27, 0.26, 0.29, 0.14, 0.25, 0.31, 0.14, 0.34, 0.2, 0.28, 0.53, 0.3, 0.26, 0.51, 0.25, 0.38]\n",
            "woman similarity = [0.43, 0.61, 0.34, 0.34, 0.42, 0.39, 0.36, 0.21, 0.31, 0.46, -0.02, 0.15, 0.12, 0.23, 0.31, 0.22, 0.14, 0.39, 0.23, 0.27]\n"
          ]
        }
      ]
    },
    {
      "cell_type": "markdown",
      "source": [
        "## Part II Understand contextual word embedding using BERT (15%)"
      ],
      "metadata": {
        "id": "5tS-rk_0htP1"
      }
    },
    {
      "cell_type": "markdown",
      "source": [
        "A big difference between Word2Vec and BERT is that Word2Vec learns context-free word representations, i.e., the embedding for 'orange' is the same in \"I love eating oranges\" and in \"The sky turned orange\". BERT, on the other hand, produces contextual word presentations, i.e., embeddings for the same word in different contexts should be different. \n",
        "\n",
        "For example, let us compare the context-based embedding vectors for 'orange' in the following three sentences using Bert:\n",
        "* \"I love eating oranges\"\n",
        "* \"My favorite fruits are oranges and apples\"\n",
        "* \"The sky turned orange\""
      ],
      "metadata": {
        "id": "qhiqrefnhyzl"
      }
    },
    {
      "cell_type": "markdown",
      "source": [
        "Same as in \"Lab 4 Natural Language Processing\", we use the BERT model and tokenizer from the Huggingface transformer library ([1](https://huggingface.co/course/chapter1/1), [2](https://huggingface.co/docs/transformers/quicktour)) "
      ],
      "metadata": {
        "id": "krMUN1bXEHMu"
      }
    },
    {
      "cell_type": "code",
      "source": [
        "!pip install -q transformers"
      ],
      "metadata": {
        "id": "AE1bsvtolEz4"
      },
      "execution_count": null,
      "outputs": []
    },
    {
      "cell_type": "code",
      "source": [
        "from transformers import BertTokenizer, TFBertModel"
      ],
      "metadata": {
        "id": "IEHtbdMLlS-Q"
      },
      "execution_count": null,
      "outputs": []
    },
    {
      "cell_type": "markdown",
      "source": [
        "We use the 'bert-base-cased' from Huggingface as the underlying BERT model and the associated tokenizer."
      ],
      "metadata": {
        "id": "6kptKqkSEjAA"
      }
    },
    {
      "cell_type": "code",
      "source": [
        "bert_model = TFBertModel.from_pretrained('bert-base-cased')\n",
        "bert_tokenizer = BertTokenizer.from_pretrained('bert-base-cased')"
      ],
      "metadata": {
        "id": "VaXbeG1TmukM",
        "colab": {
          "base_uri": "https://localhost:8080/"
        },
        "outputId": "f00d69d0-9420-48f1-8ce4-ad6674ff7c5c"
      },
      "execution_count": null,
      "outputs": [
        {
          "output_type": "stream",
          "name": "stderr",
          "text": [
            "Some layers from the model checkpoint at bert-base-cased were not used when initializing TFBertModel: ['mlm___cls', 'nsp___cls']\n",
            "- This IS expected if you are initializing TFBertModel from the checkpoint of a model trained on another task or with another architecture (e.g. initializing a BertForSequenceClassification model from a BertForPreTraining model).\n",
            "- This IS NOT expected if you are initializing TFBertModel from the checkpoint of a model that you expect to be exactly identical (initializing a BertForSequenceClassification model from a BertForSequenceClassification model).\n",
            "All the layers of TFBertModel were initialized from the model checkpoint at bert-base-cased.\n",
            "If your task is similar to the task the model of the checkpoint was trained on, you can already use TFBertModel for predictions without further training.\n"
          ]
        }
      ]
    },
    {
      "cell_type": "code",
      "source": [
        "example_sentences = [\"I love eating oranges\",\n",
        "                     \"My favorite fruits are oranges and apples\",\n",
        "                     \"The sky turned orange\"]"
      ],
      "metadata": {
        "id": "Sb_U7kyMEroc"
      },
      "execution_count": null,
      "outputs": []
    },
    {
      "cell_type": "markdown",
      "source": [
        "Let us start by tokenizing the example sentences. "
      ],
      "metadata": {
        "id": "Ftt2mbDnEs6I"
      }
    },
    {
      "cell_type": "code",
      "source": [
        "# Check how Bert tokenize each sentence\n",
        "# This helps us identify the location of 'orange' in the tokenized vector\n",
        "for sen in example_sentences:\n",
        "  print(bert_tokenizer.tokenize(sen))"
      ],
      "metadata": {
        "id": "p4VMvgnCE5MQ",
        "colab": {
          "base_uri": "https://localhost:8080/"
        },
        "outputId": "8d6bbcb7-f8bc-44a8-b621-e762293b0ec7"
      },
      "execution_count": null,
      "outputs": [
        {
          "output_type": "stream",
          "name": "stdout",
          "text": [
            "['I', 'love', 'eating', 'orange', '##s']\n",
            "['My', 'favorite', 'fruits', 'are', 'orange', '##s', 'and', 'apples']\n",
            "['The', 'sky', 'turned', 'orange']\n"
          ]
        }
      ]
    },
    {
      "cell_type": "markdown",
      "source": [
        "Notice that the prefix '##' indicates that the token is a continuation of the previous one. This also helps us identify location of 'orange' in the tokenized vector, e.g., 'orange' is the 4th token in the first sentence. Note that here the tokenize() function just splits a text into words, and doesn't add a 'CLS' (classification token) or a 'SEP' (separation token) to the text.\n",
        "\n",
        "Next, we use the tokenizer to transfer the example sentences to input that the Bert model expects. "
      ],
      "metadata": {
        "id": "gDDKRE1RE8OK"
      }
    },
    {
      "cell_type": "code",
      "source": [
        "bert_inputs = bert_tokenizer(example_sentences,\n",
        "                             padding=True,\n",
        "                             return_tensors='tf')\n",
        "\n",
        "bert_inputs"
      ],
      "metadata": {
        "id": "u0XgIyKGlqy5",
        "colab": {
          "base_uri": "https://localhost:8080/"
        },
        "outputId": "ab80e490-bda3-40db-d8a8-ad60eeffebaa"
      },
      "execution_count": null,
      "outputs": [
        {
          "output_type": "execute_result",
          "data": {
            "text/plain": [
              "{'input_ids': <tf.Tensor: shape=(3, 10), dtype=int32, numpy=\n",
              "array([[  101,   146,  1567,  5497,  5925,  1116,   102,     0,     0,\n",
              "            0],\n",
              "       [  101,  1422,  5095, 11669,  1132,  5925,  1116,  1105, 22888,\n",
              "          102],\n",
              "       [  101,  1109,  3901,  1454,  5925,   102,     0,     0,     0,\n",
              "            0]], dtype=int32)>, 'token_type_ids': <tf.Tensor: shape=(3, 10), dtype=int32, numpy=\n",
              "array([[0, 0, 0, 0, 0, 0, 0, 0, 0, 0],\n",
              "       [0, 0, 0, 0, 0, 0, 0, 0, 0, 0],\n",
              "       [0, 0, 0, 0, 0, 0, 0, 0, 0, 0]], dtype=int32)>, 'attention_mask': <tf.Tensor: shape=(3, 10), dtype=int32, numpy=\n",
              "array([[1, 1, 1, 1, 1, 1, 1, 0, 0, 0],\n",
              "       [1, 1, 1, 1, 1, 1, 1, 1, 1, 1],\n",
              "       [1, 1, 1, 1, 1, 1, 0, 0, 0, 0]], dtype=int32)>}"
            ]
          },
          "metadata": {},
          "execution_count": 21
        }
      ]
    },
    {
      "cell_type": "markdown",
      "source": [
        "So there are actually three outputs: the input ids (starting with '101' for the '[CLS]' token), the token_type_ids which are usefull when one has distinct segments, and the attention masks which are used to mask out padding tokens. \n",
        "\n",
        "Please refer to our Lab 4 for more details about input_ids, token_type_ids, and attention_masks. \n",
        "\n",
        "More resources:\n",
        "*    https://huggingface.co/docs/transformers/preprocessing\n",
        "*    https://huggingface.co/docs/transformers/tokenizer_summary"
      ],
      "metadata": {
        "id": "CrzU61KaI3Of"
      }
    },
    {
      "cell_type": "markdown",
      "source": [
        "Now, let us get the BERT encoding of our example sentences."
      ],
      "metadata": {
        "id": "6FwSZzTBJFC3"
      }
    },
    {
      "cell_type": "code",
      "source": [
        "bert_outputs = bert_model(bert_inputs)\n",
        "\n",
        "print('shape of first output: \\t\\t', bert_outputs[0].shape)\n",
        "print('shape of second output: \\t', bert_outputs[1].shape)"
      ],
      "metadata": {
        "id": "vP4sg23im6wd",
        "colab": {
          "base_uri": "https://localhost:8080/"
        },
        "outputId": "8e29b236-9ef4-4f2d-9446-d345a63660a2"
      },
      "execution_count": null,
      "outputs": [
        {
          "output_type": "stream",
          "name": "stdout",
          "text": [
            "shape of first output: \t\t (3, 10, 768)\n",
            "shape of second output: \t (3, 768)\n"
          ]
        }
      ]
    },
    {
      "cell_type": "markdown",
      "source": [
        "There are two outputs here: one with dimensions [3, 10, 768] and one with [3, 768]. The first one [batch_size, sequence_length, embedding_size] is the output of the last layer of the Bert model and are the contextual embeddings of the words in the input sequence. The second output [batch_size, embedding_size] is the embedding of the first token of the sequence (i.e., classification token).\n",
        "\n",
        "Note you can also get the first output through bert_output.last_hidden_state (see below, also check https://huggingface.co/docs/transformers/v4.16.2/en/model_doc/bert#transformers.TFBertModel)\n",
        "\n",
        "We need the first output to get contextualized embeddings for 'orange' in each sentence."
      ],
      "metadata": {
        "id": "x1LmkPOWJPJp"
      }
    },
    {
      "cell_type": "code",
      "source": [
        "bert_outputs[0]"
      ],
      "metadata": {
        "id": "tZ8FgzC1KWxg",
        "colab": {
          "base_uri": "https://localhost:8080/"
        },
        "outputId": "89badd5d-73fc-4304-fd38-16d581e695fd"
      },
      "execution_count": null,
      "outputs": [
        {
          "output_type": "execute_result",
          "data": {
            "text/plain": [
              "<tf.Tensor: shape=(3, 10, 768), dtype=float32, numpy=\n",
              "array([[[ 0.72526085,  0.10203107, -0.2456913 , ..., -0.04899121,\n",
              "          0.39186493,  0.02921055],\n",
              "        [ 0.22793163,  0.12613113,  0.12215047, ...,  0.310737  ,\n",
              "         -0.13684075,  0.3392896 ],\n",
              "        [ 0.11651912,  0.20991719, -0.62462854, ...,  0.7515278 ,\n",
              "         -0.7327963 ,  0.05906107],\n",
              "        ...,\n",
              "        [-0.10604842, -0.19108056, -0.11248206, ...,  0.13676174,\n",
              "          0.0700283 ,  0.19438447],\n",
              "        [ 0.05706025, -0.29356375, -0.03861137, ...,  0.01286015,\n",
              "          0.27537045,  0.15846874],\n",
              "        [ 0.24304411, -0.06842139,  0.09176363, ..., -0.1619789 ,\n",
              "          0.24152735,  0.00447925]],\n",
              "\n",
              "       [[ 0.5403354 , -0.11092855, -0.12229552, ..., -0.16148913,\n",
              "          0.238005  , -0.0380555 ],\n",
              "        [-0.08707756, -0.13345723,  0.35856643, ..., -0.06155151,\n",
              "          0.13525108,  0.3893334 ],\n",
              "        [-0.01516266, -0.41845638, -0.1303033 , ...,  0.12552258,\n",
              "         -0.49384457,  0.52132285],\n",
              "        ...,\n",
              "        [ 0.28228825, -0.24432173, -0.20267995, ..., -0.09836713,\n",
              "          0.05036372,  0.19456714],\n",
              "        [ 0.41708246,  0.19513264,  0.28022465, ..., -0.45395625,\n",
              "          0.2501219 ,  0.04929551],\n",
              "        [ 0.99297756,  0.24790084, -0.2091465 , ..., -0.6324767 ,\n",
              "          0.18984339, -0.61011505]],\n",
              "\n",
              "       [[ 0.106017  ,  0.06181876,  0.04633295, ..., -0.30906755,\n",
              "          0.23271663, -0.13493448],\n",
              "        [-0.21224612, -0.5082527 ,  0.28352875, ..., -0.06875555,\n",
              "         -0.11457995,  0.5859637 ],\n",
              "        [ 0.08372116,  0.17443322,  0.03233574, ..., -0.21602923,\n",
              "         -0.42035332,  0.1684938 ],\n",
              "        ...,\n",
              "        [-0.40330505, -0.53788483,  0.03425188, ..., -0.04721716,\n",
              "          0.12521876,  0.1538537 ],\n",
              "        [-0.20190921, -0.42219806,  0.01825945, ..., -0.403147  ,\n",
              "          0.4074065 ,  0.04357275],\n",
              "        [-0.18145218, -0.39313826,  0.05961807, ..., -0.31333306,\n",
              "          0.4381908 ,  0.09534106]]], dtype=float32)>"
            ]
          },
          "metadata": {},
          "execution_count": 23
        }
      ]
    },
    {
      "cell_type": "code",
      "source": [
        "bert_outputs.last_hidden_state"
      ],
      "metadata": {
        "id": "ikEVh5PAJ05j",
        "colab": {
          "base_uri": "https://localhost:8080/"
        },
        "outputId": "1bb8623e-ebf7-43cf-c15c-ab4b3a357e52"
      },
      "execution_count": null,
      "outputs": [
        {
          "output_type": "execute_result",
          "data": {
            "text/plain": [
              "<tf.Tensor: shape=(3, 10, 768), dtype=float32, numpy=\n",
              "array([[[ 0.72526085,  0.10203107, -0.2456913 , ..., -0.04899121,\n",
              "          0.39186493,  0.02921055],\n",
              "        [ 0.22793163,  0.12613113,  0.12215047, ...,  0.310737  ,\n",
              "         -0.13684075,  0.3392896 ],\n",
              "        [ 0.11651912,  0.20991719, -0.62462854, ...,  0.7515278 ,\n",
              "         -0.7327963 ,  0.05906107],\n",
              "        ...,\n",
              "        [-0.10604842, -0.19108056, -0.11248206, ...,  0.13676174,\n",
              "          0.0700283 ,  0.19438447],\n",
              "        [ 0.05706025, -0.29356375, -0.03861137, ...,  0.01286015,\n",
              "          0.27537045,  0.15846874],\n",
              "        [ 0.24304411, -0.06842139,  0.09176363, ..., -0.1619789 ,\n",
              "          0.24152735,  0.00447925]],\n",
              "\n",
              "       [[ 0.5403354 , -0.11092855, -0.12229552, ..., -0.16148913,\n",
              "          0.238005  , -0.0380555 ],\n",
              "        [-0.08707756, -0.13345723,  0.35856643, ..., -0.06155151,\n",
              "          0.13525108,  0.3893334 ],\n",
              "        [-0.01516266, -0.41845638, -0.1303033 , ...,  0.12552258,\n",
              "         -0.49384457,  0.52132285],\n",
              "        ...,\n",
              "        [ 0.28228825, -0.24432173, -0.20267995, ..., -0.09836713,\n",
              "          0.05036372,  0.19456714],\n",
              "        [ 0.41708246,  0.19513264,  0.28022465, ..., -0.45395625,\n",
              "          0.2501219 ,  0.04929551],\n",
              "        [ 0.99297756,  0.24790084, -0.2091465 , ..., -0.6324767 ,\n",
              "          0.18984339, -0.61011505]],\n",
              "\n",
              "       [[ 0.106017  ,  0.06181876,  0.04633295, ..., -0.30906755,\n",
              "          0.23271663, -0.13493448],\n",
              "        [-0.21224612, -0.5082527 ,  0.28352875, ..., -0.06875555,\n",
              "         -0.11457995,  0.5859637 ],\n",
              "        [ 0.08372116,  0.17443322,  0.03233574, ..., -0.21602923,\n",
              "         -0.42035332,  0.1684938 ],\n",
              "        ...,\n",
              "        [-0.40330505, -0.53788483,  0.03425188, ..., -0.04721716,\n",
              "          0.12521876,  0.1538537 ],\n",
              "        [-0.20190921, -0.42219806,  0.01825945, ..., -0.403147  ,\n",
              "          0.4074065 ,  0.04357275],\n",
              "        [-0.18145218, -0.39313826,  0.05961807, ..., -0.31333306,\n",
              "          0.4381908 ,  0.09534106]]], dtype=float32)>"
            ]
          },
          "metadata": {},
          "execution_count": 24
        }
      ]
    },
    {
      "cell_type": "markdown",
      "source": [
        "Now, we get the embeddings of 'orange' in each sentence by simply finding the 'orange'-token positions in the embedding output and extract the proper components:"
      ],
      "metadata": {
        "id": "b1q3hM3fNiG-"
      }
    },
    {
      "cell_type": "code",
      "source": [
        "orange_1 = bert_outputs[0][0, 4] \n",
        "orange_2 = bert_outputs[0][1, 5]\n",
        "orange_3 = bert_outputs[0][2, 4]\n",
        "\n",
        "oranges = [orange_1, orange_2, orange_3]"
      ],
      "metadata": {
        "id": "Sw1q9s0ZnBkl"
      },
      "execution_count": null,
      "outputs": []
    },
    {
      "cell_type": "markdown",
      "source": [
        "We calculate pair-wise cosine similarities:"
      ],
      "metadata": {
        "id": "kShV7UfOQMSN"
      }
    },
    {
      "cell_type": "code",
      "source": [
        "def cosine_similarities(vecs):\n",
        "    for v_1 in vecs:\n",
        "        similarities = ''\n",
        "        for v_2 in vecs:\n",
        "            similarities += ('\\t' + str(np.dot(v_1, v_2)/\n",
        "                np.sqrt(np.dot(v_1, v_1) * np.dot(v_2, v_2)))[:4])\n",
        "        print(similarities)"
      ],
      "metadata": {
        "id": "W-YfDwiinRf-"
      },
      "execution_count": null,
      "outputs": []
    },
    {
      "cell_type": "code",
      "source": [
        "cosine_similarities(oranges)"
      ],
      "metadata": {
        "id": "4oLzuz8znTBO",
        "colab": {
          "base_uri": "https://localhost:8080/"
        },
        "outputId": "9281d1f3-3bc4-4134-c2b7-cdd9cc813aeb"
      },
      "execution_count": null,
      "outputs": [
        {
          "output_type": "stream",
          "name": "stdout",
          "text": [
            "\t1.0\t0.91\t0.69\n",
            "\t0.91\t1.0\t0.66\n",
            "\t0.69\t0.66\t1.0\n"
          ]
        }
      ]
    },
    {
      "cell_type": "markdown",
      "source": [
        "The similarity metrics make sense. The 'orange' in \"The sky turned orange\" is different from the rest. "
      ],
      "metadata": {
        "id": "bB1BRbygpGBM"
      }
    },
    {
      "cell_type": "markdown",
      "source": [
        "Next, please compare the contextual embedding vectors of 'bank' in the following four sentences:\n",
        "\n",
        "\n",
        "*   \"I need to bring my money to the bank today\"\n",
        "*   \"I will need to bring my money to the bank tomorrow\"\n",
        "*   \"I had to bank into a turn\"\n",
        "*   \"The bank teller was very nice\"\n",
        "\n",
        "\n",
        "**Inline Question #1:** \n",
        "\n",
        "- Please calculate the pair-wise cosine similarities between 'bank' in the four sentences and fill in the table below. (Note, bank_i represent bank in the i_th sentence)\n",
        "- Please explain the results. Does it make sense?\n",
        "\n",
        "**Your Answer:**\n",
        "Yes, the results makes sense. We would expect the highest similarities between bank_1 and bank_2 because the context is almost identical. This is shown by the pair-wise similarity of 0.99. We also expect the lowest similarity between bank_3 and the rest of the \"banks\" because it is a verb and the context is the most unrelated in this instance. Sentence 3 has a similarity of just 0.59 with sentences 1 and 2, and 0.62 with sentence four. Finally, \"bank\" in the fourth sentence is highly similar to the first and second bank contexts, with a similarity of 0.87. However, this number is not quite as high as the 0.99 similarity seen between the bank_1 and bank_2 because bank_4 is describing a person who works at a bank, rather than the bank itself.  \n",
        "\n",
        "| `similarity`|  bank_1  |  bank_2  |  bank_3  |  bank_4  |\n",
        "|-------------|----------|----------|----------|----------|\n",
        "| bank_1      |    1.0  |   0.99     |  0.59      |    0.86      |\n",
        "| bank_2      |   0.99       |   1.0       |   0.59   | 0.87      |\n",
        "| bank_3      |   0.59    |     0.59  |   1.0    |    0.62      |\n",
        "| bank_4      |   0.86    |   0.87     |    0.62   |    1.0      |"
      ],
      "metadata": {
        "id": "enG4ADZaqbvm"
      }
    },
    {
      "cell_type": "code",
      "source": [
        "################################################################################\n",
        "# TODO: Fill in your codes                                                     #                                                              #\n",
        "################################################################################\n",
        "example_sentences = [\"I need to bring my money to the bank today\",\n",
        "                     \"I will need to bring my money to the bank tomorrow\",\n",
        "                     \"I had to bank into a turn\",\n",
        "                     \"The bank teller was very nice\"]\n",
        "for sen in example_sentences:\n",
        "  print(bert_tokenizer.tokenize(sen))\n"
      ],
      "metadata": {
        "id": "WppqV6v_qbHu",
        "colab": {
          "base_uri": "https://localhost:8080/"
        },
        "outputId": "4db8a5a1-3db5-4e49-b9bc-e5bd4ea4f2c2"
      },
      "execution_count": null,
      "outputs": [
        {
          "output_type": "stream",
          "name": "stdout",
          "text": [
            "['I', 'need', 'to', 'bring', 'my', 'money', 'to', 'the', 'bank', 'today']\n",
            "['I', 'will', 'need', 'to', 'bring', 'my', 'money', 'to', 'the', 'bank', 'tomorrow']\n",
            "['I', 'had', 'to', 'bank', 'into', 'a', 'turn']\n",
            "['The', 'bank', 'tell', '##er', 'was', 'very', 'nice']\n"
          ]
        }
      ]
    },
    {
      "cell_type": "code",
      "source": [
        "bert_inputs = bert_tokenizer(example_sentences,\n",
        "                             padding=True,\n",
        "                             return_tensors='tf')\n",
        "\n",
        "bert_inputs"
      ],
      "metadata": {
        "colab": {
          "base_uri": "https://localhost:8080/"
        },
        "id": "7ryfFP9T55MS",
        "outputId": "495d832a-570f-4ce6-9502-8fb2956a7589"
      },
      "execution_count": null,
      "outputs": [
        {
          "output_type": "execute_result",
          "data": {
            "text/plain": [
              "{'input_ids': <tf.Tensor: shape=(4, 13), dtype=int32, numpy=\n",
              "array([[ 101,  146, 1444, 1106, 2498, 1139, 1948, 1106, 1103, 3085, 2052,\n",
              "         102,    0],\n",
              "       [ 101,  146, 1209, 1444, 1106, 2498, 1139, 1948, 1106, 1103, 3085,\n",
              "        4911,  102],\n",
              "       [ 101,  146, 1125, 1106, 3085, 1154,  170, 1885,  102,    0,    0,\n",
              "           0,    0],\n",
              "       [ 101, 1109, 3085, 1587, 1200, 1108, 1304, 3505,  102,    0,    0,\n",
              "           0,    0]], dtype=int32)>, 'token_type_ids': <tf.Tensor: shape=(4, 13), dtype=int32, numpy=\n",
              "array([[0, 0, 0, 0, 0, 0, 0, 0, 0, 0, 0, 0, 0],\n",
              "       [0, 0, 0, 0, 0, 0, 0, 0, 0, 0, 0, 0, 0],\n",
              "       [0, 0, 0, 0, 0, 0, 0, 0, 0, 0, 0, 0, 0],\n",
              "       [0, 0, 0, 0, 0, 0, 0, 0, 0, 0, 0, 0, 0]], dtype=int32)>, 'attention_mask': <tf.Tensor: shape=(4, 13), dtype=int32, numpy=\n",
              "array([[1, 1, 1, 1, 1, 1, 1, 1, 1, 1, 1, 1, 0],\n",
              "       [1, 1, 1, 1, 1, 1, 1, 1, 1, 1, 1, 1, 1],\n",
              "       [1, 1, 1, 1, 1, 1, 1, 1, 1, 0, 0, 0, 0],\n",
              "       [1, 1, 1, 1, 1, 1, 1, 1, 1, 0, 0, 0, 0]], dtype=int32)>}"
            ]
          },
          "metadata": {},
          "execution_count": 29
        }
      ]
    },
    {
      "cell_type": "code",
      "source": [
        "bert_outputs = bert_model(bert_inputs)\n",
        "bank_1 = bert_outputs[0][0, 9]\n",
        "bank_2 = bert_outputs[0][1, 10]\n",
        "bank_3 = bert_outputs[0][2, 4]\n",
        "bank_4 = bert_outputs[0][3, 2]\n",
        "banks = [bank_1, bank_2, bank_3, bank_4]\n",
        "cosine_similarities(banks)"
      ],
      "metadata": {
        "colab": {
          "base_uri": "https://localhost:8080/"
        },
        "id": "vSBk7rza57lK",
        "outputId": "7f35fc1e-128a-4623-8d43-67a93e031761"
      },
      "execution_count": null,
      "outputs": [
        {
          "output_type": "stream",
          "name": "stdout",
          "text": [
            "\t1.0\t0.99\t0.59\t0.86\n",
            "\t0.99\t1.0\t0.59\t0.87\n",
            "\t0.59\t0.59\t1.0\t0.62\n",
            "\t0.86\t0.87\t0.62\t1.0\n"
          ]
        }
      ]
    },
    {
      "cell_type": "markdown",
      "source": [
        "## Part III Text classification\n",
        "\n",
        "In this part, you will build text classifiers that try to infer whether tweets from [@realDonaldTrump](https://twitter.com/realDonaldTrump) were written by Trump himself or by a staff person.\n",
        "This is an example of binary classification on a text dataset. \n",
        "\n",
        "It is known that Donald Trump uses an Android phone, and it has been observed that some of his tweets come from Android while others come from other devices (most commonly iPhone). It is widely believed that Android tweets are written by Trump himself, while iPhone tweets are written by other staff. For more information, you can read this [blog post by David Robinson](http://varianceexplained.org/r/trump-tweets/), written prior to the 2016 election, which finds a number of differences in the style and timing of tweets published under these two devices. (Some tweets are written from other devices, but for simplicity the dataset for this assignment is restricted to these two.)\n",
        "\n",
        "This is a classification task known as \"authorship attribution\", which is the task of inferring the author of a document when the authorship is unknown. We will see how accurately this can be done with linear classifiers using word features.\n",
        "\n",
        "You might find it familiar: Yes! We are using the same data set as your homework 2 from MSBC 5180."
      ],
      "metadata": {
        "id": "muJRiiu1hY4g"
      }
    },
    {
      "cell_type": "markdown",
      "source": [
        "### Tasks\n",
        "\n",
        "In this section, you will build two text classifiers: one with a traditional machine learning method that you studied in MSBC.5190 and one with a deep learning method.\n",
        "\n",
        "\n",
        "*   For the first classifier, you can use any non-deep learning based methods. You can use your solution to Homework 2 of MSBC 5180 here.\n",
        "*   For the second classifier, you may try the following methods\n",
        "    *    Fine-tune BERT (similar to our lab 4 Fine-tune BERT for Sentiment Analysis)\n",
        "    *    Use pre-trained word embedding (useful to check: https://keras.io/examples/nlp/pretrained_word_embeddings/)\n",
        "    *    Train a deep neural network (e.g., RNN, Bi-LSTM) from scratch (similar to notebooks from our textbook: https://github.com/the-deep-learners/deep-learning-illustrated/blob/master/notebooks/bi_lstm_sentiment_classifier.ipynb)\n",
        "\n",
        "You may want to split the current training data to train and validation to help model selection.\n",
        "\n"
      ],
      "metadata": {
        "id": "_qrPDJHAVRSi"
      }
    },
    {
      "cell_type": "markdown",
      "source": [
        "### Load the Data Set"
      ],
      "metadata": {
        "id": "huC0ZChevyi2"
      }
    },
    {
      "cell_type": "markdown",
      "source": [
        "#### Sample code to load raw text###\n",
        "\n",
        "Please download `tweets.train.tsv` and `tweets.test.tsv` from Canvas (Module Assignment) and upload them to Google Colab. Here we load raw text data to text_train and text_test. "
      ],
      "metadata": {
        "id": "vbQbaofDdKJW"
      }
    },
    {
      "cell_type": "code",
      "source": [
        "import pandas as pd\n",
        "import numpy as np\n",
        "from sklearn.feature_extraction.text import CountVectorizer\n",
        "\n",
        "#training set\n",
        "df_train = pd.read_csv('tweets.train.tsv', sep='\\t', header=None)\n",
        "\n",
        "text_train = df_train.iloc[0:, 1].values.tolist()\n",
        "Y_train = df_train.iloc[0:, 0].values\n",
        "# convert to binary labels (0 and 1)\n",
        "y_train = np.array([1 if v == 'Android' else 0 for v in Y_train])\n",
        "\n",
        "df_test = pd.read_csv('tweets.test.tsv', sep='\\t', header=None)\n",
        "text_test = df_test.iloc[0:, 1].values.tolist()\n",
        "Y_test = df_test.iloc[0:, 0].values\n",
        "# convert to binary labels (0 and 1)\n",
        "y_test = np.array([1 if v == 'Android' else 0 for v in Y_test])"
      ],
      "metadata": {
        "id": "X0LtpZn3mtQW"
      },
      "execution_count": null,
      "outputs": []
    },
    {
      "cell_type": "markdown",
      "source": [
        "Let us take a quick look of some training examples"
      ],
      "metadata": {
        "id": "tiwE7oviUIzw"
      }
    },
    {
      "cell_type": "code",
      "source": [
        "text_train[:5]"
      ],
      "metadata": {
        "id": "y7x5n1i4U1Ty",
        "colab": {
          "base_uri": "https://localhost:8080/"
        },
        "outputId": "cc0e7d86-6eca-48bf-9ca5-7ccc509cfd8e"
      },
      "execution_count": null,
      "outputs": [
        {
          "output_type": "execute_result",
          "data": {
            "text/plain": [
              "[\"My statement as to what's happening in Sweden was in reference to a story that was broadcast on _USERNAME_ concerning immigrants & Sweden.\",\n",
              " 'Will be having many meetings this weekend at The Southern White House. Big 5:00 P.M. speech in Melbourne, Florida. A lot to talk about!',\n",
              " \"Don't believe the main stream (fake news) media.The White House is running VERY WELL. I inherited a MESS and am in the process of fixing it.\",\n",
              " 'Looking forward to the Florida rally tomorrow. Big crowd expected!',\n",
              " \"'One of the most effective press conferences I've ever seen!' says Rush Limbaugh. Many agree.Yet FAKE MEDIA calls it differently! Dishonest\"]"
            ]
          },
          "metadata": {},
          "execution_count": 6
        }
      ]
    },
    {
      "cell_type": "code",
      "source": [
        "y_train[:5]"
      ],
      "metadata": {
        "id": "2MemhkdSU3Uk",
        "colab": {
          "base_uri": "https://localhost:8080/"
        },
        "outputId": "9de03a56-9860-4a16-f7ee-956a7ff97614"
      },
      "execution_count": null,
      "outputs": [
        {
          "output_type": "execute_result",
          "data": {
            "text/plain": [
              "array([1, 1, 1, 1, 1])"
            ]
          },
          "metadata": {},
          "execution_count": 10
        }
      ]
    },
    {
      "cell_type": "markdown",
      "source": [
        "#### Sample code to preprocess data for BERT ####\n",
        "\n",
        "The pre-processing step is similar to Lab 4. \n",
        "\n",
        "Feel free to dispose it if you want to preprocess the data differently and use methods other than BERT."
      ],
      "metadata": {
        "id": "jcuUb7duU-dL"
      }
    },
    {
      "cell_type": "code",
      "source": [
        "# The longest text in the data is 75 and we use it as the max_length\n",
        "max_length = 75\n",
        "x_train = bert_tokenizer(text_train,\n",
        "              max_length=75,\n",
        "              truncation=True,\n",
        "              padding='max_length', \n",
        "              return_tensors='tf')\n",
        "\n",
        "y_train = np.array([1 if v == 'Android' else 0 for v in Y_train])\n",
        "\n",
        "x_test = bert_tokenizer(text_test,\n",
        "              max_length=75,\n",
        "              truncation=True,\n",
        "              padding='max_length', \n",
        "              return_tensors='tf')\n",
        "\n",
        "y_test = np.array([1 if v == 'Android' else 0 for v in Y_test])"
      ],
      "metadata": {
        "id": "26uqOprdmuj8"
      },
      "execution_count": null,
      "outputs": []
    },
    {
      "cell_type": "markdown",
      "source": [
        "### Your Solution 1: A traditional machine learning approach (30%)"
      ],
      "metadata": {
        "id": "czjHmp3nZPL7"
      }
    },
    {
      "cell_type": "markdown",
      "source": [
        "Please implement your text classifier using a traditional machine learning method. \n",
        "\n",
        "**Inline Question #1:** \n",
        "- What machine leaning model did you use?\n",
        "- What are the features used in this model?\n",
        "- What is the model's performance in the test data?\n",
        "\n",
        "**Your Answer:**\n",
        "We used a logistic regression model with tf idf. We first transformed the data using a tf idf vectorizer, so the features used in this model include text features extracted using the vectorizer. The features are character-level n-grams (unigrams and bigrams) up to a maximum of 5000 features, after removing stop words in english. The TfidfVectorizer computes the TF-IDF representation of the text, which assigns weights to each feature (n-gram) based on its frequency in the document and across the corpus. The model's performance in the test data is 90.27%.  "
      ],
      "metadata": {
        "id": "N-pI4oKqZapr"
      }
    },
    {
      "cell_type": "code",
      "source": [
        "################################################################################\n",
        "# TODO: Fill in your codes                                                     #\n",
        "################################################################################\n",
        "from sklearn.linear_model import LogisticRegression\n",
        "from sklearn.feature_extraction.text import TfidfVectorizer\n",
        "from sklearn.metrics import accuracy_score\n",
        "\n",
        "vectorizer = TfidfVectorizer(max_features=5000, ngram_range=(1,2), stop_words='english', use_idf=True)\n",
        "\n",
        "X_train = vectorizer.fit_transform(text_train)\n",
        "X_test = vectorizer.transform(text_test)\n",
        "y_train = np.array([1 if v == 'Android' else 0 for v in Y_train])\n",
        "y_test = np.array([1 if v == 'Android' else 0 for v in Y_test])\n",
        "\n",
        "lr = LogisticRegression()\n",
        "lr.fit(X_train, y_train)\n",
        "\n",
        "y_pred = lr.predict(X_test)\n",
        "accuracy = accuracy_score(y_test, y_pred)\n",
        "print('Test accuracy:', accuracy)"
      ],
      "metadata": {
        "id": "Tkq6TnWfZbSe",
        "colab": {
          "base_uri": "https://localhost:8080/"
        },
        "outputId": "ff743cad-6214-4c11-e412-aed88132d0b7"
      },
      "execution_count": null,
      "outputs": [
        {
          "output_type": "stream",
          "name": "stdout",
          "text": [
            "Test accuracy: 0.9027027027027027\n"
          ]
        }
      ]
    },
    {
      "cell_type": "markdown",
      "source": [
        "### Your Solution 2: A deep learning apporach (30%)\n",
        "\n",
        "Please implement your text classifier using a deep learning method\n",
        "\n",
        "**Inline Question #1:** \n",
        "- What deep leaning model did you use?\n",
        "- Please briefly explain the input, output, and layers (e.g., what does each layer do) of your model. \n",
        "- What is the model's performance in the test data?\n",
        "- Is it better or worse than Solution 1? What might be the cause?\n",
        "\n",
        "**Your Answer:**\n",
        "We chose the bert-base-cased deep learning model. We monitored validation loss and used early stopping to achieve the best accuracy/loss in our validation data. We experimented with smaller/larger learning rates, different batch sizes, and tried using the bert-large-cased model. However, we achieved the highest accuracy with the bert-base-cased model with 7 epochs, a learning rate of 1e-5, and a batch size of 16.  \n",
        "\n",
        "Input: The input of this model is a sequence of word tokens represented by input ids (a sequence of numerical indices representing the words), token type ids (a sequence of numerical indicies indicating which setntence a tooken belongs to), and attention mask (which is a binary variable indicating which tokens are padding tokens vs actual tokens). \n",
        "\n",
        "Output: The output is a probability distribution over two classes in the binary sequence classification task, indicating whether a tweet was written by Trump or an Android. \n",
        "\n",
        "Layers:\n",
        "This model has 12 transformer layers and a classification layer on top of the transformer that maps the final output representation of the [CLS] token to the probability distribution over the two classes. \n",
        "\n",
        "The model's performance in the test data is 92.97%, which is an improvement from the traditional logistic regression machine learning method we used. This might be because BERT can handle longer sequences, it can capture contextual information better, and it has been trained on vast amounts of data, which can be easily be altered for the task at hand. The BERT model was pretrained on BookCorpus, a dataset consisting of 11,038 unpublished books and English Wikipedia. Logistic regression on the other hand, was trained from scratch for the specific task. \n",
        "\n",
        "https://www.analyticsvidhya.com/blog/2021/05/all-you-need-to-know-about-bert/#:~:text=Model%20Overview&text=The%20BERTBase%20model%20uses,has%20around%20110M%20trainable%20parameters. \n",
        "\n",
        "https://huggingface.co/bert-base-cased "
      ],
      "metadata": {
        "id": "1L2f5VzUZThM"
      }
    },
    {
      "cell_type": "code",
      "source": [
        "from transformers import TFAutoModelForSequenceClassification \n",
        "model = TFAutoModelForSequenceClassification.from_pretrained(\"bert-base-cased\", \n",
        "                                                             num_labels=2)\n",
        "model.compile(\n",
        "    optimizer=tf.keras.optimizers.Adam(learning_rate=1e-5),\n",
        "    loss=tf.keras.losses.SparseCategoricalCrossentropy(from_logits=True),\n",
        "    metrics=tf.metrics.SparseCategoricalAccuracy(),\n",
        ")"
      ],
      "metadata": {
        "id": "tK7AMp0lZiG3",
        "colab": {
          "base_uri": "https://localhost:8080/"
        },
        "outputId": "9d860344-25eb-44de-f910-d5dd40e62984"
      },
      "execution_count": null,
      "outputs": [
        {
          "output_type": "stream",
          "name": "stderr",
          "text": [
            "All model checkpoint layers were used when initializing TFBertForSequenceClassification.\n",
            "\n",
            "Some layers of TFBertForSequenceClassification were not initialized from the model checkpoint at bert-base-cased and are newly initialized: ['classifier']\n",
            "You should probably TRAIN this model on a down-stream task to be able to use it for predictions and inference.\n"
          ]
        }
      ]
    },
    {
      "cell_type": "code",
      "source": [
        "from sklearn.model_selection import train_test_split\n",
        "max_length = 75\n",
        "text_train, text_valid, Y_train, Y_valid = train_test_split(text_train, Y_train, test_size=0.1, random_state=42)\n",
        "\n",
        "x_train = bert_tokenizer(text_train,\n",
        "              max_length=75,\n",
        "              truncation=True,\n",
        "              padding='max_length', \n",
        "              return_tensors='tf')\n",
        "\n",
        "y_train = np.array([1 if v == 'Android' else 0 for v in Y_train])\n",
        "\n",
        "x_valid = bert_tokenizer(text_valid,\n",
        "              max_length=75,\n",
        "              truncation=True,\n",
        "              padding='max_length', \n",
        "              return_tensors='tf')\n",
        "\n",
        "y_valid = np.array([1 if v == 'Android' else 0 for v in Y_valid])\n",
        "\n",
        "\n",
        "x_test = bert_tokenizer(text_test,\n",
        "              max_length=75,\n",
        "              truncation=True,\n",
        "              padding='max_length', \n",
        "              return_tensors='tf')\n",
        "\n",
        "y_test = np.array([1 if v == 'Android' else 0 for v in Y_test])\n"
      ],
      "metadata": {
        "id": "r0N-RD7I_7X0"
      },
      "execution_count": null,
      "outputs": []
    },
    {
      "cell_type": "code",
      "source": [
        "from tensorflow.keras.callbacks import EarlyStopping\n",
        "early_stopping = EarlyStopping(monitor='val_loss', patience=4) \n",
        "history = model.fit([x_train.input_ids, x_train.token_type_ids, x_train.attention_mask], \n",
        "          y_train,\n",
        "          validation_data=([x_valid.input_ids, x_valid.token_type_ids, x_valid.attention_mask], \n",
        "                           y_valid),\n",
        "          epochs=10, \n",
        "          batch_size=16,\n",
        "          callbacks=[early_stopping])"
      ],
      "metadata": {
        "colab": {
          "base_uri": "https://localhost:8080/"
        },
        "id": "KUKo8xjWvM6m",
        "outputId": "deb28d22-d5a6-468d-c375-a8cb67eb21a3"
      },
      "execution_count": null,
      "outputs": [
        {
          "output_type": "stream",
          "name": "stdout",
          "text": [
            "Epoch 1/10\n",
            "146/146 [==============================] - 121s 336ms/step - loss: 0.3728 - sparse_categorical_accuracy: 0.8388 - val_loss: 0.2632 - val_sparse_categorical_accuracy: 0.8923\n",
            "Epoch 2/10\n",
            "146/146 [==============================] - 39s 269ms/step - loss: 0.2164 - sparse_categorical_accuracy: 0.9173 - val_loss: 0.2380 - val_sparse_categorical_accuracy: 0.9115\n",
            "Epoch 3/10\n",
            "146/146 [==============================] - 41s 280ms/step - loss: 0.1410 - sparse_categorical_accuracy: 0.9464 - val_loss: 0.2152 - val_sparse_categorical_accuracy: 0.9308\n",
            "Epoch 4/10\n",
            "146/146 [==============================] - 41s 278ms/step - loss: 0.0780 - sparse_categorical_accuracy: 0.9730 - val_loss: 0.2471 - val_sparse_categorical_accuracy: 0.9115\n",
            "Epoch 5/10\n",
            "146/146 [==============================] - 40s 277ms/step - loss: 0.0368 - sparse_categorical_accuracy: 0.9880 - val_loss: 0.3172 - val_sparse_categorical_accuracy: 0.8962\n",
            "Epoch 6/10\n",
            "146/146 [==============================] - 41s 278ms/step - loss: 0.0147 - sparse_categorical_accuracy: 0.9949 - val_loss: 0.2990 - val_sparse_categorical_accuracy: 0.9346\n",
            "Epoch 7/10\n",
            "146/146 [==============================] - 40s 276ms/step - loss: 0.0217 - sparse_categorical_accuracy: 0.9931 - val_loss: 0.3321 - val_sparse_categorical_accuracy: 0.9115\n"
          ]
        }
      ]
    },
    {
      "cell_type": "code",
      "source": [
        "import matplotlib.pyplot as plt\n",
        "def plot_learning_curve(history):\n",
        "  plt.plot(history.history['sparse_categorical_accuracy'])\n",
        "  plt.plot(history.history['val_sparse_categorical_accuracy'])\n",
        "  plt.title('model accuracy')\n",
        "  plt.ylabel('accuracy')\n",
        "  plt.xlabel('epoch')\n",
        "  plt.legend(['train', 'valid'], loc='upper left')\n",
        "  plt.show()\n",
        "\n",
        "  plt.plot(history.history['loss'])\n",
        "  plt.plot(history.history['val_loss'])\n",
        "  plt.title('model loss')\n",
        "  plt.ylabel('loss')\n",
        "  plt.xlabel('epoch')\n",
        "  plt.legend(['train', 'valid'], loc='upper left')\n",
        "  plt.show()"
      ],
      "metadata": {
        "id": "yKm7UiVAzVX5"
      },
      "execution_count": null,
      "outputs": []
    },
    {
      "cell_type": "code",
      "source": [
        "plot_learning_curve(history)"
      ],
      "metadata": {
        "colab": {
          "base_uri": "https://localhost:8080/",
          "height": 573
        },
        "id": "mvp_TUEjBAgq",
        "outputId": "8d35306d-6225-4f35-f2bc-ed54ada94964"
      },
      "execution_count": null,
      "outputs": [
        {
          "output_type": "display_data",
          "data": {
            "text/plain": [
              "<Figure size 432x288 with 1 Axes>"
            ],
            "image/png": "[encoded data removed]"
          },
          "metadata": {
            "needs_background": "light"
          }
        },
        {
          "output_type": "display_data",
          "data": {
            "text/plain": [
              "<Figure size 432x288 with 1 Axes>"
            ],
            "image/png": "[encoded data removed]"
          },
          "metadata": {
            "needs_background": "light"
          }
        }
      ]
    },
    {
      "cell_type": "code",
      "source": [
        "test_loss, test_accuracy = model.evaluate(\n",
        "    [x_test.input_ids, x_test.token_type_ids, x_test.attention_mask], \n",
        "    y_test,\n",
        "    batch_size=16)\n",
        "print(f\"Test Loss:{test_loss}\")\n",
        "print(f\"Test Accuracy:{test_accuracy}\")"
      ],
      "metadata": {
        "colab": {
          "base_uri": "https://localhost:8080/"
        },
        "id": "6EPXQoRgHu-b",
        "outputId": "2f8c92d0-4530-4c2b-fd07-d3b582b5313c"
      },
      "execution_count": null,
      "outputs": [
        {
          "output_type": "stream",
          "name": "stdout",
          "text": [
            "12/12 [==============================] - 1s 109ms/step - loss: 0.2301 - sparse_categorical_accuracy: 0.9297\n",
            "Test Loss:0.23006680607795715\n",
            "Test Accuracy:0.929729700088501\n"
          ]
        }
      ]
    },
    {
      "cell_type": "markdown",
      "source": [
        "## Final note (10%)\n",
        "\n",
        "Similar to Homework 1, 10% of the total grade is allocated based on model performance. Teams with higher performance scores (max of solution 1 and solution 2) get higher grade. \n",
        "\n"
      ],
      "metadata": {
        "id": "xGYrNIm_JZhb"
      }
    }
  ]
}