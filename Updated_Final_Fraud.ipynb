{
 "cells": [
  {
   "cell_type": "code",
   "execution_count": 79,
   "id": "8408a3a6",
   "metadata": {},
   "outputs": [
    {
     "name": "stdout",
     "output_type": "stream",
     "text": [
      "Starting Spark application\n"
     ]
    },
    {
     "data": {
      "text/html": [
       "<table>\n",
       "<tr><th>ID</th><th>YARN Application ID</th><th>Kind</th><th>State</th><th>Spark UI</th><th>Driver log</th><th>User</th><th>Current session?</th></tr><tr><td>151</td><td>application_1681238404028_0206</td><td>pyspark</td><td>idle</td><td><a target=\"_blank\" href=\"http://ip-10-0-15-180.us-west-2.compute.internal:20888/proxy/application_1681238404028_0206/\">Link</a></td><td><a target=\"_blank\" href=\"http://ip-10-0-7-96.us-west-2.compute.internal:8042/node/containerlogs/container_1681238404028_0206_01_000001/livy\">Link</a></td><td>None</td><td>✔</td></tr></table>"
      ],
      "text/plain": [
       "<IPython.core.display.HTML object>"
      ]
     },
     "metadata": {},
     "output_type": "display_data"
    },
    {
     "data": {
      "application/vnd.jupyter.widget-view+json": {
       "model_id": "",
       "version_major": 2,
       "version_minor": 0
      },
      "text/plain": [
       "FloatProgress(value=0.0, bar_style='info', description='Progress:', layout=Layout(height='25px', width='50%'),…"
      ]
     },
     "metadata": {},
     "output_type": "display_data"
    },
    {
     "name": "stdout",
     "output_type": "stream",
     "text": [
      "SparkSession available as 'spark'.\n"
     ]
    },
    {
     "data": {
      "text/html": [
       "Current session configs: <tt>{'executorMemory': '2G', 'driverMemory': '1G', 'executorCores': 1, 'numExecutors': 3, 'conf': {'spark.dynamicAllocation.enabled': 'false', 'spark.sql.parquet.enableVectorizedReader': 'false', 'spark.pyspark.python': 'python3', 'spark.pyspark.virtualenv.enabled': 'true', 'spark.pyspark.virtualenv.type': 'native', 'spark.pyspark.virtualenv.bin.path': '/usr/bin/virtualenv'}, 'proxyUser': 'team1', 'kind': 'pyspark'}</tt><br>"
      ],
      "text/plain": [
       "<IPython.core.display.HTML object>"
      ]
     },
     "metadata": {},
     "output_type": "display_data"
    },
    {
     "data": {
      "text/html": [
       "<table>\n",
       "<tr><th>ID</th><th>YARN Application ID</th><th>Kind</th><th>State</th><th>Spark UI</th><th>Driver log</th><th>User</th><th>Current session?</th></tr><tr><td>151</td><td>application_1681238404028_0206</td><td>pyspark</td><td>idle</td><td><a target=\"_blank\" href=\"http://ip-10-0-15-180.us-west-2.compute.internal:20888/proxy/application_1681238404028_0206/\">Link</a></td><td><a target=\"_blank\" href=\"http://ip-10-0-7-96.us-west-2.compute.internal:8042/node/containerlogs/container_1681238404028_0206_01_000001/livy\">Link</a></td><td>None</td><td>✔</td></tr></table>"
      ],
      "text/plain": [
       "<IPython.core.display.HTML object>"
      ]
     },
     "metadata": {},
     "output_type": "display_data"
    }
   ],
   "source": [
    "%%configure -f\n",
    "{\"executorMemory\": \"2G\",\"driverMemory\":\"1G\",\"executorCores\": 1,\"numExecutors\": 3, \n",
    " \"conf\": {\"spark.dynamicAllocation.enabled\": \"false\", \n",
    "          \"spark.sql.parquet.enableVectorizedReader\": \"false\", \n",
    "          \"spark.pyspark.python\": \"python3\",\n",
    "          \"spark.pyspark.virtualenv.enabled\": \"true\",\n",
    "          \"spark.pyspark.virtualenv.type\": \"native\",\n",
    "          \"spark.pyspark.virtualenv.bin.path\": \"/usr/bin/virtualenv\"}}\n",
    "\n"
   ]
  },
  {
   "cell_type": "code",
   "execution_count": 80,
   "id": "ca5229bc",
   "metadata": {},
   "outputs": [
    {
     "data": {
      "application/vnd.jupyter.widget-view+json": {
       "model_id": "",
       "version_major": 2,
       "version_minor": 0
      },
      "text/plain": [
       "FloatProgress(value=0.0, bar_style='info', description='Progress:', layout=Layout(height='25px', width='50%'),…"
      ]
     },
     "metadata": {},
     "output_type": "display_data"
    }
   ],
   "source": [
    "df = spark.read.format(\"csv\") \\\n",
    "    .option(\"header\", \"true\") \\\n",
    "    .option(\"inferSchema\", \"true\") \\\n",
    "    .load(\"s3://msbx5420-spr23/team1/Fraud_Detection.csv\") \\\n",
    "    .dropDuplicates()"
   ]
  },
  {
   "cell_type": "code",
   "execution_count": 81,
   "id": "3bf69a49-86f9-4cbe-bf01-79a78cc200d0",
   "metadata": {
    "id": "3bf69a49-86f9-4cbe-bf01-79a78cc200d0",
    "outputId": "45501397-f4fe-4635-9451-c3e8ed6db485",
    "tags": []
   },
   "outputs": [
    {
     "data": {
      "application/vnd.jupyter.widget-view+json": {
       "model_id": "",
       "version_major": 2,
       "version_minor": 0
      },
      "text/plain": [
       "FloatProgress(value=0.0, bar_style='info', description='Progress:', layout=Layout(height='25px', width='50%'),…"
      ]
     },
     "metadata": {},
     "output_type": "display_data"
    },
    {
     "name": "stdout",
     "output_type": "stream",
     "text": [
      "+----+-----+------+-----------+-------------+--------------+-----------+--------------+--------------+-------+--------------+\n",
      "|step| type|amount|   nameOrig|oldbalanceOrg|newbalanceOrig|   nameDest|oldbalanceDest|newbalanceDest|isFraud|isFlaggedFraud|\n",
      "+----+-----+------+-----------+-------------+--------------+-----------+--------------+--------------+-------+--------------+\n",
      "|  22|DEBIT|216.19|C1444210311|          0.0|           0.0|C1981278780|     498988.87|     499205.05|      0|             0|\n",
      "+----+-----+------+-----------+-------------+--------------+-----------+--------------+--------------+-------+--------------+\n",
      "only showing top 1 row"
     ]
    }
   ],
   "source": [
    "df.show(1)"
   ]
  },
  {
   "cell_type": "code",
   "execution_count": 82,
   "id": "2e1d8b08-eb6e-4fa6-9a12-40bb4f56ba9a",
   "metadata": {
    "tags": []
   },
   "outputs": [
    {
     "data": {
      "application/vnd.jupyter.widget-view+json": {
       "model_id": "",
       "version_major": 2,
       "version_minor": 0
      },
      "text/plain": [
       "FloatProgress(value=0.0, bar_style='info', description='Progress:', layout=Layout(height='25px', width='50%'),…"
      ]
     },
     "metadata": {},
     "output_type": "display_data"
    },
    {
     "name": "stdout",
     "output_type": "stream",
     "text": [
      "6362620"
     ]
    }
   ],
   "source": [
    "df.count()"
   ]
  },
  {
   "cell_type": "code",
   "execution_count": 83,
   "id": "6d6b976b-58dc-4d57-b07b-e114c9cbceb7",
   "metadata": {
    "id": "6d6b976b-58dc-4d57-b07b-e114c9cbceb7",
    "tags": []
   },
   "outputs": [
    {
     "data": {
      "application/vnd.jupyter.widget-view+json": {
       "model_id": "",
       "version_major": 2,
       "version_minor": 0
      },
      "text/plain": [
       "FloatProgress(value=0.0, bar_style='info', description='Progress:', layout=Layout(height='25px', width='50%'),…"
      ]
     },
     "metadata": {},
     "output_type": "display_data"
    }
   ],
   "source": [
    "#creating a destination column for customer and merchant \n",
    "from pyspark.sql.functions import when, col\n",
    "\n",
    "df = df.withColumn(\"Type_Dest\", when(col(\"nameDest\").startswith(\"C\"), \"Customer_Dest\").when(col(\"nameDest\").startswith(\"M\"), \"Merchant_Dest\").otherwise(\"Other\"))"
   ]
  },
  {
   "cell_type": "code",
   "execution_count": 84,
   "id": "61eb18ec-f97e-4b12-a9b6-626f2de8cab4",
   "metadata": {
    "id": "61eb18ec-f97e-4b12-a9b6-626f2de8cab4",
    "tags": []
   },
   "outputs": [
    {
     "data": {
      "application/vnd.jupyter.widget-view+json": {
       "model_id": "",
       "version_major": 2,
       "version_minor": 0
      },
      "text/plain": [
       "FloatProgress(value=0.0, bar_style='info', description='Progress:', layout=Layout(height='25px', width='50%'),…"
      ]
     },
     "metadata": {},
     "output_type": "display_data"
    }
   ],
   "source": [
    "#creating an original column for customer/merchant \n",
    "from pyspark.sql.functions import when, col\n",
    "df = df.withColumn(\"Type_Orig\", when(col(\"nameOrig\").startswith(\"C\"), \"Customer_Orig\").when(col(\"nameOrig\").startswith(\"M\"), \"Merchant_Orig\").otherwise(\"Other\"))\n"
   ]
  },
  {
   "cell_type": "code",
   "execution_count": 85,
   "id": "8b61237d-f649-495d-87fb-3e2fa45e5f6e",
   "metadata": {
    "id": "8b61237d-f649-495d-87fb-3e2fa45e5f6e",
    "outputId": "b3b1c72c-dc2a-4676-832e-f62d62f0fa9f",
    "tags": []
   },
   "outputs": [
    {
     "data": {
      "application/vnd.jupyter.widget-view+json": {
       "model_id": "",
       "version_major": 2,
       "version_minor": 0
      },
      "text/plain": [
       "FloatProgress(value=0.0, bar_style='info', description='Progress:', layout=Layout(height='25px', width='50%'),…"
      ]
     },
     "metadata": {},
     "output_type": "display_data"
    },
    {
     "name": "stdout",
     "output_type": "stream",
     "text": [
      "+----+-----+------+-----------+-------------+--------------+-----------+--------------+--------------+-------+--------------+-------------+-------------+\n",
      "|step| type|amount|   nameOrig|oldbalanceOrg|newbalanceOrig|   nameDest|oldbalanceDest|newbalanceDest|isFraud|isFlaggedFraud|    Type_Dest|    Type_Orig|\n",
      "+----+-----+------+-----------+-------------+--------------+-----------+--------------+--------------+-------+--------------+-------------+-------------+\n",
      "|  22|DEBIT|216.19|C1444210311|          0.0|           0.0|C1981278780|     498988.87|     499205.05|      0|             0|Customer_Dest|Customer_Orig|\n",
      "+----+-----+------+-----------+-------------+--------------+-----------+--------------+--------------+-------+--------------+-------------+-------------+\n",
      "only showing top 1 row"
     ]
    }
   ],
   "source": [
    "df.show(1)"
   ]
  },
  {
   "cell_type": "code",
   "execution_count": 86,
   "id": "117c3192-acfe-41f9-8891-7c31def6a3a9",
   "metadata": {
    "id": "117c3192-acfe-41f9-8891-7c31def6a3a9",
    "outputId": "4c321c26-a022-4a60-bb6e-49c8c3995aa9",
    "tags": []
   },
   "outputs": [
    {
     "data": {
      "application/vnd.jupyter.widget-view+json": {
       "model_id": "",
       "version_major": 2,
       "version_minor": 0
      },
      "text/plain": [
       "FloatProgress(value=0.0, bar_style='info', description='Progress:', layout=Layout(height='25px', width='50%'),…"
      ]
     },
     "metadata": {},
     "output_type": "display_data"
    },
    {
     "name": "stdout",
     "output_type": "stream",
     "text": [
      "0.04410919651380884"
     ]
    }
   ],
   "source": [
    "from pyspark.sql.functions import corr\n",
    "corr_value = df.select(corr('isFraud', 'isFlaggedFraud')).collect()[0][0]\n",
    "print(corr_value)"
   ]
  },
  {
   "cell_type": "code",
   "execution_count": 87,
   "id": "2d3ff391-a04e-4d69-9eb2-72ad6ee346c0",
   "metadata": {
    "id": "2d3ff391-a04e-4d69-9eb2-72ad6ee346c0",
    "tags": []
   },
   "outputs": [
    {
     "data": {
      "application/vnd.jupyter.widget-view+json": {
       "model_id": "",
       "version_major": 2,
       "version_minor": 0
      },
      "text/plain": [
       "FloatProgress(value=0.0, bar_style='info', description='Progress:', layout=Layout(height='25px', width='50%'),…"
      ]
     },
     "metadata": {},
     "output_type": "display_data"
    }
   ],
   "source": [
    "from pyspark.sql.functions import sum as pyspark_sum\n",
    "\n",
    "fraud_sum = df.select(pyspark_sum('isFraud')).collect()[0][0]"
   ]
  },
  {
   "cell_type": "code",
   "execution_count": 88,
   "id": "1bdb30db-f14e-433d-88c4-eef6146cc4c7",
   "metadata": {
    "id": "1bdb30db-f14e-433d-88c4-eef6146cc4c7",
    "outputId": "129de32e-6dff-4d9d-c985-60f1ea0c147c",
    "tags": []
   },
   "outputs": [
    {
     "data": {
      "application/vnd.jupyter.widget-view+json": {
       "model_id": "",
       "version_major": 2,
       "version_minor": 0
      },
      "text/plain": [
       "FloatProgress(value=0.0, bar_style='info', description='Progress:', layout=Layout(height='25px', width='50%'),…"
      ]
     },
     "metadata": {},
     "output_type": "display_data"
    },
    {
     "name": "stdout",
     "output_type": "stream",
     "text": [
      "8213"
     ]
    }
   ],
   "source": [
    "print(fraud_sum)"
   ]
  },
  {
   "cell_type": "code",
   "execution_count": 89,
   "id": "1665ebbf-9591-464f-a0a0-aa4808e0d39a",
   "metadata": {
    "id": "1665ebbf-9591-464f-a0a0-aa4808e0d39a",
    "outputId": "038887bd-f577-4cf3-fe9d-b6512db4d886",
    "tags": []
   },
   "outputs": [
    {
     "data": {
      "application/vnd.jupyter.widget-view+json": {
       "model_id": "",
       "version_major": 2,
       "version_minor": 0
      },
      "text/plain": [
       "FloatProgress(value=0.0, bar_style='info', description='Progress:', layout=Layout(height='25px', width='50%'),…"
      ]
     },
     "metadata": {},
     "output_type": "display_data"
    },
    {
     "name": "stdout",
     "output_type": "stream",
     "text": [
      "16"
     ]
    }
   ],
   "source": [
    "flagged_sum = df.select(pyspark_sum('isFlaggedFraud')).collect()[0][0]\n",
    "print(flagged_sum)"
   ]
  },
  {
   "cell_type": "markdown",
   "id": "cba73eac-435d-4f24-ac96-1b409d60507b",
   "metadata": {
    "id": "cba73eac-435d-4f24-ac96-1b409d60507b"
   },
   "source": [
    "#Creating new hour/day/time of day columns"
   ]
  },
  {
   "cell_type": "code",
   "execution_count": 90,
   "id": "35be619c-6d8f-4adf-9dff-dd6a441a6e75",
   "metadata": {
    "id": "35be619c-6d8f-4adf-9dff-dd6a441a6e75",
    "outputId": "7ccd2da1-910b-4d26-b4e6-be910d4a824e",
    "tags": []
   },
   "outputs": [
    {
     "data": {
      "application/vnd.jupyter.widget-view+json": {
       "model_id": "",
       "version_major": 2,
       "version_minor": 0
      },
      "text/plain": [
       "FloatProgress(value=0.0, bar_style='info', description='Progress:', layout=Layout(height='25px', width='50%'),…"
      ]
     },
     "metadata": {},
     "output_type": "display_data"
    },
    {
     "name": "stdout",
     "output_type": "stream",
     "text": [
      "The maximum value in the 'step' column is: 743"
     ]
    }
   ],
   "source": [
    "# looking at the max step \n",
    "from pyspark.sql.functions import max\n",
    "\n",
    "max_step = df.agg(max(\"step\")).collect()[0][0]\n",
    "print(\"The maximum value in the 'step' column is:\", max_step)"
   ]
  },
  {
   "cell_type": "code",
   "execution_count": 91,
   "id": "8528ca1a-0f0d-41f2-8f7e-08355b43b9f3",
   "metadata": {
    "id": "8528ca1a-0f0d-41f2-8f7e-08355b43b9f3",
    "outputId": "81da65b9-5079-4cd5-c0da-372830d83aaf",
    "tags": []
   },
   "outputs": [
    {
     "data": {
      "application/vnd.jupyter.widget-view+json": {
       "model_id": "",
       "version_major": 2,
       "version_minor": 0
      },
      "text/plain": [
       "FloatProgress(value=0.0, bar_style='info', description='Progress:', layout=Layout(height='25px', width='50%'),…"
      ]
     },
     "metadata": {},
     "output_type": "display_data"
    },
    {
     "name": "stdout",
     "output_type": "stream",
     "text": [
      "The minimum value in the 'step' column is: 1"
     ]
    }
   ],
   "source": [
    "# looking at the min step\n",
    "from pyspark.sql.functions import min\n",
    "\n",
    "min_step = df.agg(min(\"step\")).collect()[0][0]\n",
    "print(\"The minimum value in the 'step' column is:\", min_step)"
   ]
  },
  {
   "cell_type": "code",
   "execution_count": 92,
   "id": "ca93d868-78fe-404f-afbf-0d658ca40973",
   "metadata": {
    "id": "ca93d868-78fe-404f-afbf-0d658ca40973",
    "outputId": "af1597e1-9bed-4ce2-e671-b96727c894b0",
    "tags": []
   },
   "outputs": [
    {
     "data": {
      "application/vnd.jupyter.widget-view+json": {
       "model_id": "",
       "version_major": 2,
       "version_minor": 0
      },
      "text/plain": [
       "FloatProgress(value=0.0, bar_style='info', description='Progress:', layout=Layout(height='25px', width='50%'),…"
      ]
     },
     "metadata": {},
     "output_type": "display_data"
    },
    {
     "name": "stdout",
     "output_type": "stream",
     "text": [
      "Column 'step' has 0 null values.\n",
      "Column 'type' has 0 null values.\n",
      "Column 'amount' has 0 null values.\n",
      "Column 'nameOrig' has 0 null values.\n",
      "Column 'oldbalanceOrg' has 0 null values.\n",
      "Column 'newbalanceOrig' has 0 null values.\n",
      "Column 'nameDest' has 0 null values.\n",
      "Column 'oldbalanceDest' has 0 null values.\n",
      "Column 'newbalanceDest' has 0 null values.\n",
      "Column 'isFraud' has 0 null values.\n",
      "Column 'isFlaggedFraud' has 0 null values.\n",
      "Column 'Type_Dest' has 0 null values.\n",
      "Column 'Type_Orig' has 0 null values."
     ]
    }
   ],
   "source": [
    "# null/missing values\n",
    "from pyspark.sql.functions import count, when, col\n",
    "\n",
    "null_counts = df.select([count(when(col(c).isNull(), c)).alias(c) for c in df.columns])\n",
    "\n",
    "null_counts_dict = null_counts.first().asDict()\n",
    "\n",
    "for col_name, null_count in null_counts_dict.items():\n",
    "    print(f\"Column '{col_name}' has {null_count} null values.\")"
   ]
  },
  {
   "cell_type": "code",
   "execution_count": 93,
   "id": "01b9c92c-a352-445a-ba2b-5906230d11b4",
   "metadata": {
    "id": "01b9c92c-a352-445a-ba2b-5906230d11b4",
    "tags": []
   },
   "outputs": [
    {
     "data": {
      "application/vnd.jupyter.widget-view+json": {
       "model_id": "",
       "version_major": 2,
       "version_minor": 0
      },
      "text/plain": [
       "FloatProgress(value=0.0, bar_style='info', description='Progress:', layout=Layout(height='25px', width='50%'),…"
      ]
     },
     "metadata": {},
     "output_type": "display_data"
    }
   ],
   "source": [
    "# code to calculate time of day and create a new hour of day column\n",
    "from pyspark.sql.functions import when\n",
    "\n",
    "df = df.withColumn(\"hour_of_day\", (df.step - 1) % 24)  # Calculate the hour of the day"
   ]
  },
  {
   "cell_type": "code",
   "execution_count": 94,
   "id": "cad90ae7-aaf8-4434-a2da-26cebf78bfc0",
   "metadata": {
    "id": "cad90ae7-aaf8-4434-a2da-26cebf78bfc0",
    "tags": []
   },
   "outputs": [
    {
     "data": {
      "application/vnd.jupyter.widget-view+json": {
       "model_id": "",
       "version_major": 2,
       "version_minor": 0
      },
      "text/plain": [
       "FloatProgress(value=0.0, bar_style='info', description='Progress:', layout=Layout(height='25px', width='50%'),…"
      ]
     },
     "metadata": {},
     "output_type": "display_data"
    }
   ],
   "source": [
    "from pyspark.sql.functions import floor\n",
    "\n",
    "df = df.withColumn(\"day\", floor((df.step - 1) / 24) + 1)  # Calculate the day number"
   ]
  },
  {
   "cell_type": "code",
   "execution_count": 95,
   "id": "a78c099c-7c1a-4166-9c32-1b10f2037362",
   "metadata": {
    "id": "a78c099c-7c1a-4166-9c32-1b10f2037362",
    "tags": []
   },
   "outputs": [
    {
     "data": {
      "application/vnd.jupyter.widget-view+json": {
       "model_id": "",
       "version_major": 2,
       "version_minor": 0
      },
      "text/plain": [
       "FloatProgress(value=0.0, bar_style='info', description='Progress:', layout=Layout(height='25px', width='50%'),…"
      ]
     },
     "metadata": {},
     "output_type": "display_data"
    }
   ],
   "source": [
    "df = df.withColumn(\"time_of_day\", \n",
    "                   when((df.hour_of_day >= 5) & (df.hour_of_day < 12), \"morning\")\n",
    "                   .when((df.hour_of_day >= 12) & (df.hour_of_day < 17), \"afternoon\")\n",
    "                   .when((df.hour_of_day >= 17) & (df.hour_of_day < 21), \"evening\")\n",
    "                   .otherwise(\"night\"))  # Assign labels based on hour of the day"
   ]
  },
  {
   "cell_type": "code",
   "execution_count": 96,
   "id": "37bd864b-e84b-4edd-9c0f-2cb0edb12cda",
   "metadata": {
    "tags": []
   },
   "outputs": [
    {
     "data": {
      "application/vnd.jupyter.widget-view+json": {
       "model_id": "",
       "version_major": 2,
       "version_minor": 0
      },
      "text/plain": [
       "FloatProgress(value=0.0, bar_style='info', description='Progress:', layout=Layout(height='25px', width='50%'),…"
      ]
     },
     "metadata": {},
     "output_type": "display_data"
    },
    {
     "name": "stdout",
     "output_type": "stream",
     "text": [
      "+----+--------+---------+-----------+-------------+--------------+-----------+--------------+--------------+-------+--------------+-------------+-------------+-----------+---+-----------+\n",
      "|step|    type|   amount|   nameOrig|oldbalanceOrg|newbalanceOrig|   nameDest|oldbalanceDest|newbalanceDest|isFraud|isFlaggedFraud|    Type_Dest|    Type_Orig|hour_of_day|day|time_of_day|\n",
      "+----+--------+---------+-----------+-------------+--------------+-----------+--------------+--------------+-------+--------------+-------------+-------------+-----------+---+-----------+\n",
      "|  25|CASH_OUT|199003.99|C1247481470|          0.0|           0.0| C976896991|    2665734.96|    2864738.95|      0|             0|Customer_Dest|Customer_Orig|          0|  2|      night|\n",
      "|  25|TRANSFER| 751516.7| C365227395|      16594.0|           0.0| C453497137|     186316.71|      937833.4|      0|             0|Customer_Dest|Customer_Orig|          0|  2|      night|\n",
      "|  25|CASH_OUT|130824.67| C476662334|      25298.0|           0.0| C470811102|     720303.56|     851128.23|      0|             0|Customer_Dest|Customer_Orig|          0|  2|      night|\n",
      "|  33| PAYMENT|  9457.77|C1402311531|     619793.6|     610335.82|M1768954425|           0.0|           0.0|      0|             0|Merchant_Dest|Customer_Orig|          8|  2|    morning|\n",
      "|  33|CASH_OUT|178732.29|C1327026046|          0.0|           0.0| C464601431|    1380715.56|    1559447.84|      0|             0|Customer_Dest|Customer_Orig|          8|  2|    morning|\n",
      "+----+--------+---------+-----------+-------------+--------------+-----------+--------------+--------------+-------+--------------+-------------+-------------+-----------+---+-----------+\n",
      "only showing top 5 rows"
     ]
    }
   ],
   "source": [
    "#checking to make sure that the previous transformations worked\n",
    "df.filter(df.day == 2).show(5)"
   ]
  },
  {
   "cell_type": "markdown",
   "id": "868a74cc-d2e6-4efe-9752-1e2c508b16e7",
   "metadata": {
    "id": "868a74cc-d2e6-4efe-9752-1e2c508b16e7"
   },
   "source": [
    "#Querying to look at distributions of fraud"
   ]
  },
  {
   "cell_type": "code",
   "execution_count": 97,
   "id": "56980483-4759-4f65-b447-8e6075cd5ccd",
   "metadata": {
    "id": "56980483-4759-4f65-b447-8e6075cd5ccd",
    "outputId": "d2987d6d-d973-416f-8ada-9aca1561e1ab",
    "tags": []
   },
   "outputs": [
    {
     "data": {
      "application/vnd.jupyter.widget-view+json": {
       "model_id": "",
       "version_major": 2,
       "version_minor": 0
      },
      "text/plain": [
       "FloatProgress(value=0.0, bar_style='info', description='Progress:', layout=Layout(height='25px', width='50%'),…"
      ]
     },
     "metadata": {},
     "output_type": "display_data"
    },
    {
     "name": "stdout",
     "output_type": "stream",
     "text": [
      "+---------+-----------+\n",
      "|      ToD|fraud_count|\n",
      "+---------+-----------+\n",
      "|  evening|       1372|\n",
      "|afternoon|       1738|\n",
      "|  morning|       2433|\n",
      "|    night|       2670|\n",
      "+---------+-----------+"
     ]
    }
   ],
   "source": [
    "df.createOrReplaceTempView(\"my_table\")\n",
    "\n",
    "fraud_by_ToD = spark.sql(\"\"\"\n",
    "    SELECT (time_of_day) as ToD, sum(isFraud) as fraud_count\n",
    "    FROM my_table\n",
    "    GROUP BY time_of_day order by fraud_count\n",
    "\"\"\")\n",
    "\n",
    "fraud_by_ToD.show()"
   ]
  },
  {
   "cell_type": "code",
   "execution_count": 98,
   "id": "f3e9da93",
   "metadata": {},
   "outputs": [
    {
     "data": {
      "application/vnd.jupyter.widget-view+json": {
       "model_id": "",
       "version_major": 2,
       "version_minor": 0
      },
      "text/plain": [
       "FloatProgress(value=0.0, bar_style='info', description='Progress:', layout=Layout(height='25px', width='50%'),…"
      ]
     },
     "metadata": {},
     "output_type": "display_data"
    },
    {
     "name": "stdout",
     "output_type": "stream",
     "text": [
      "+---------+-----------+\n",
      "|      ToD|fraud_count|\n",
      "+---------+-----------+\n",
      "|  evening|       1372|\n",
      "|afternoon|       1738|\n",
      "|  morning|       2433|\n",
      "|    night|       2670|\n",
      "+---------+-----------+"
     ]
    },
    {
     "data": {
      "application/vnd.jupyter.widget-view+json": {
       "model_id": "",
       "version_major": 2,
       "version_minor": 0
      },
      "text/plain": [
       "FloatProgress(value=0.0, bar_style='info', description='Progress:', layout=Layout(height='25px', width='50%'),…"
      ]
     },
     "metadata": {},
     "output_type": "display_data"
    }
   ],
   "source": [
    "%%spark -o pandas_df\n",
    "pandas_df = fraud_by_ToD\n",
    "pandas_df.show()"
   ]
  },
  {
   "cell_type": "code",
   "execution_count": 99,
   "id": "60b18dca-027f-4f9b-acfd-f31a0ba4e9c2",
   "metadata": {
    "id": "60b18dca-027f-4f9b-acfd-f31a0ba4e9c2",
    "outputId": "f24af456-cb68-4288-82cf-ff2a8ece9851",
    "tags": []
   },
   "outputs": [
    {
     "data": {
      "image/png": "[encoded data removed]",
      "text/plain": [
       "<Figure size 432x288 with 1 Axes>"
      ]
     },
     "metadata": {
      "needs_background": "light"
     },
     "output_type": "display_data"
    }
   ],
   "source": [
    "%%local\n",
    "import matplotlib.pyplot as plt\n",
    "\n",
    "plt.bar(pandas_df['ToD'], pandas_df['fraud_count'])\n",
    "plt.xlabel('Time of Day')\n",
    "plt.ylabel('Fraud Count')\n",
    "plt.title('Fraud Count by Time of Day')\n",
    "plt.show()"
   ]
  },
  {
   "cell_type": "code",
   "execution_count": 100,
   "id": "5e1caa70-732f-4a48-9728-04d4e08ecbfc",
   "metadata": {
    "id": "5e1caa70-732f-4a48-9728-04d4e08ecbfc",
    "outputId": "00185947-b38d-4d5d-b26c-77937c0489c1",
    "tags": []
   },
   "outputs": [
    {
     "data": {
      "application/vnd.jupyter.widget-view+json": {
       "model_id": "",
       "version_major": 2,
       "version_minor": 0
      },
      "text/plain": [
       "FloatProgress(value=0.0, bar_style='info', description='Progress:', layout=Layout(height='25px', width='50%'),…"
      ]
     },
     "metadata": {},
     "output_type": "display_data"
    },
    {
     "name": "stdout",
     "output_type": "stream",
     "text": [
      "+---------+--------------------+\n",
      "|      ToD|           fraud_avg|\n",
      "+---------+--------------------+\n",
      "|  evening|6.759096823076699E-4|\n",
      "|afternoon|7.877206229610137E-4|\n",
      "|  morning|0.001449957687219...|\n",
      "|    night|0.005954279164260052|\n",
      "+---------+--------------------+"
     ]
    }
   ],
   "source": [
    "#Fraud rates by time of day \n",
    "avg_fraud_by_ToD = spark.sql(\"\"\"\n",
    "    SELECT (time_of_day) as ToD, avg(isFraud) as fraud_avg\n",
    "    FROM my_table\n",
    "    GROUP BY time_of_day order by fraud_avg\n",
    "\"\"\")\n",
    "\n",
    "avg_fraud_by_ToD.show()"
   ]
  },
  {
   "cell_type": "code",
   "execution_count": 101,
   "id": "94a9eadf-540e-4c48-82ea-4bc4406e3018",
   "metadata": {
    "id": "94a9eadf-540e-4c48-82ea-4bc4406e3018",
    "outputId": "1b3e88c6-75ad-4f1d-dcb6-b1f6a40766fb",
    "tags": []
   },
   "outputs": [
    {
     "data": {
      "application/vnd.jupyter.widget-view+json": {
       "model_id": "",
       "version_major": 2,
       "version_minor": 0
      },
      "text/plain": [
       "FloatProgress(value=0.0, bar_style='info', description='Progress:', layout=Layout(height='25px', width='50%'),…"
      ]
     },
     "metadata": {},
     "output_type": "display_data"
    },
    {
     "name": "stdout",
     "output_type": "stream",
     "text": [
      "+---------+--------------------+\n",
      "|      ToD|           fraud_avg|\n",
      "+---------+--------------------+\n",
      "|  evening|6.759096823076699E-4|\n",
      "|afternoon|7.877206229610137E-4|\n",
      "|  morning|0.001449957687219...|\n",
      "|    night|0.005954279164260052|\n",
      "+---------+--------------------+"
     ]
    },
    {
     "data": {
      "application/vnd.jupyter.widget-view+json": {
       "model_id": "",
       "version_major": 2,
       "version_minor": 0
      },
      "text/plain": [
       "FloatProgress(value=0.0, bar_style='info', description='Progress:', layout=Layout(height='25px', width='50%'),…"
      ]
     },
     "metadata": {},
     "output_type": "display_data"
    }
   ],
   "source": [
    "%%spark -o pandas_df2\n",
    "pandas_df2 = avg_fraud_by_ToD\n",
    "pandas_df2.show()"
   ]
  },
  {
   "cell_type": "code",
   "execution_count": 102,
   "id": "2f4bcded-e234-42e1-8dab-a91effae729e",
   "metadata": {
    "id": "2f4bcded-e234-42e1-8dab-a91effae729e",
    "outputId": "52de6106-7e41-403e-e4dd-232c82d8f22c",
    "tags": []
   },
   "outputs": [
    {
     "data": {
      "image/png": "[encoded data removed]",
      "text/plain": [
       "<Figure size 432x288 with 1 Axes>"
      ]
     },
     "metadata": {
      "needs_background": "light"
     },
     "output_type": "display_data"
    }
   ],
   "source": [
    "%%local\n",
    "plt.bar(pandas_df2['ToD'], pandas_df2['fraud_avg'])\n",
    "plt.xlabel('Time of Day')\n",
    "plt.ylabel('Average Fraud')\n",
    "plt.title('Average Fraud by Time of Day')\n",
    "plt.show()"
   ]
  },
  {
   "cell_type": "code",
   "execution_count": 103,
   "id": "fd62528f-dbe1-44e6-99fc-a4046c0888ac",
   "metadata": {
    "id": "fd62528f-dbe1-44e6-99fc-a4046c0888ac",
    "outputId": "17dfa7a8-a622-42d4-a8da-c1a00d984e85",
    "tags": []
   },
   "outputs": [
    {
     "data": {
      "application/vnd.jupyter.widget-view+json": {
       "model_id": "",
       "version_major": 2,
       "version_minor": 0
      },
      "text/plain": [
       "FloatProgress(value=0.0, bar_style='info', description='Progress:', layout=Layout(height='25px', width='50%'),…"
      ]
     },
     "metadata": {},
     "output_type": "display_data"
    }
   ],
   "source": [
    "#group by day and count the number of fraud transactions\n",
    "fraud_by_day = spark.sql(\"\"\"\n",
    "    SELECT day, sum(isFraud) as fraud_count\n",
    "    FROM my_table\n",
    "    GROUP BY day order by fraud_count\n",
    "\"\"\")\n"
   ]
  },
  {
   "cell_type": "code",
   "execution_count": 104,
   "id": "d4935d75-ca92-4054-b7d5-42df7058e2d1",
   "metadata": {
    "id": "d4935d75-ca92-4054-b7d5-42df7058e2d1",
    "outputId": "48e9fcec-8958-44c9-e399-df8cc6b60191",
    "tags": []
   },
   "outputs": [
    {
     "data": {
      "application/vnd.jupyter.widget-view+json": {
       "model_id": "",
       "version_major": 2,
       "version_minor": 0
      },
      "text/plain": [
       "FloatProgress(value=0.0, bar_style='info', description='Progress:', layout=Layout(height='25px', width='50%'),…"
      ]
     },
     "metadata": {},
     "output_type": "display_data"
    },
    {
     "name": "stdout",
     "output_type": "stream",
     "text": [
      "+---+-----------+\n",
      "|day|fraud_count|\n",
      "+---+-----------+\n",
      "| 23|        216|\n",
      "|  6|        228|\n",
      "| 20|        236|\n",
      "| 25|        240|\n",
      "| 13|        242|\n",
      "| 14|        246|\n",
      "| 28|        248|\n",
      "| 15|        250|\n",
      "|  5|        252|\n",
      "| 16|        252|\n",
      "|  9|        255|\n",
      "| 19|        256|\n",
      "| 22|        256|\n",
      "| 29|        260|\n",
      "| 11|        262|\n",
      "|  4|        262|\n",
      "| 30|        268|\n",
      "| 18|        268|\n",
      "|  1|        271|\n",
      "| 21|        272|\n",
      "+---+-----------+\n",
      "only showing top 20 rows"
     ]
    },
    {
     "data": {
      "application/vnd.jupyter.widget-view+json": {
       "model_id": "",
       "version_major": 2,
       "version_minor": 0
      },
      "text/plain": [
       "FloatProgress(value=0.0, bar_style='info', description='Progress:', layout=Layout(height='25px', width='50%'),…"
      ]
     },
     "metadata": {},
     "output_type": "display_data"
    }
   ],
   "source": [
    "%%spark -o pandas_df3\n",
    "pandas_df3 = fraud_by_day\n",
    "pandas_df3.show()"
   ]
  },
  {
   "cell_type": "code",
   "execution_count": 105,
   "id": "85af836d-0e71-4ead-a9a3-589b0b94a7e3",
   "metadata": {
    "id": "85af836d-0e71-4ead-a9a3-589b0b94a7e3",
    "outputId": "43faabe2-a06e-4702-fc34-80a49c2c4840",
    "tags": []
   },
   "outputs": [
    {
     "data": {
      "image/png": "[encoded data removed]",
      "text/plain": [
       "<Figure size 432x288 with 1 Axes>"
      ]
     },
     "metadata": {
      "needs_background": "light"
     },
     "output_type": "display_data"
    }
   ],
   "source": [
    "%%local\n",
    "plt.bar(pandas_df3['day'], pandas_df3['fraud_count'], color = 'red')\n",
    "plt.xlabel('Day')\n",
    "plt.ylabel('Fraud Count')\n",
    "plt.title('Fraud Count by Day of Month')\n",
    "plt.show()"
   ]
  },
  {
   "cell_type": "code",
   "execution_count": 106,
   "id": "0e1c1c0f-38bd-49b3-8076-ca538a328d50",
   "metadata": {
    "id": "0e1c1c0f-38bd-49b3-8076-ca538a328d50",
    "outputId": "4109e45f-bd1d-41c7-ffef-9cc104de652f",
    "tags": []
   },
   "outputs": [
    {
     "data": {
      "application/vnd.jupyter.widget-view+json": {
       "model_id": "",
       "version_major": 2,
       "version_minor": 0
      },
      "text/plain": [
       "FloatProgress(value=0.0, bar_style='info', description='Progress:', layout=Layout(height='25px', width='50%'),…"
      ]
     },
     "metadata": {},
     "output_type": "display_data"
    }
   ],
   "source": [
    "avg_fraud_by_day = spark.sql(\"\"\"\n",
    "    SELECT day, avg(isFraud) as fraud_avg\n",
    "    FROM my_table\n",
    "    GROUP BY day order by fraud_avg\n",
    "\"\"\")\n",
    "\n"
   ]
  },
  {
   "cell_type": "code",
   "execution_count": 107,
   "id": "a3a924a3-c47a-423b-912c-b0b5e8dae15e",
   "metadata": {
    "id": "a3a924a3-c47a-423b-912c-b0b5e8dae15e",
    "outputId": "68505d3d-f776-446a-e511-848733b1f2c9",
    "tags": []
   },
   "outputs": [
    {
     "data": {
      "application/vnd.jupyter.widget-view+json": {
       "model_id": "",
       "version_major": 2,
       "version_minor": 0
      },
      "text/plain": [
       "FloatProgress(value=0.0, bar_style='info', description='Progress:', layout=Layout(height='25px', width='50%'),…"
      ]
     },
     "metadata": {},
     "output_type": "display_data"
    },
    {
     "name": "stdout",
     "output_type": "stream",
     "text": [
      "+---+--------------------+\n",
      "|day|           fraud_avg|\n",
      "+---+--------------------+\n",
      "|  1|4.719157865408224...|\n",
      "|  6|5.170009410324146E-4|\n",
      "| 13|5.646514210782976E-4|\n",
      "|  9|6.101660848154786E-4|\n",
      "|  8|6.182765208379204E-4|\n",
      "| 14|6.182830831716414E-4|\n",
      "| 15|6.230032745052108E-4|\n",
      "| 11|6.270057603162789E-4|\n",
      "|  7|6.467213368110456E-4|\n",
      "| 16|6.709372354190961E-4|\n",
      "|  2|6.787658323777892E-4|\n",
      "| 10| 7.17657687462622E-4|\n",
      "| 17|7.515865522376141E-4|\n",
      "| 12|8.519738346827684E-4|\n",
      "| 25|0.004148445197310425|\n",
      "| 23|0.004234297812279464|\n",
      "| 29|0.004736746219712151|\n",
      "| 22|0.004790688100005...|\n",
      "| 24|0.008560335075972973|\n",
      "|  4|0.009277620396600567|\n",
      "+---+--------------------+\n",
      "only showing top 20 rows"
     ]
    },
    {
     "data": {
      "application/vnd.jupyter.widget-view+json": {
       "model_id": "",
       "version_major": 2,
       "version_minor": 0
      },
      "text/plain": [
       "FloatProgress(value=0.0, bar_style='info', description='Progress:', layout=Layout(height='25px', width='50%'),…"
      ]
     },
     "metadata": {},
     "output_type": "display_data"
    }
   ],
   "source": [
    "%%spark -o pandas_df4\n",
    "pandas_df4 = avg_fraud_by_day\n",
    "pandas_df4.show()"
   ]
  },
  {
   "cell_type": "code",
   "execution_count": 108,
   "id": "9c54d368-2f0b-4df2-9eef-b0d8df580b90",
   "metadata": {
    "id": "9c54d368-2f0b-4df2-9eef-b0d8df580b90",
    "outputId": "827386ae-b9ad-4dc3-c918-e44d81b36e35",
    "tags": []
   },
   "outputs": [
    {
     "data": {
      "image/png": "[encoded data removed]",
      "text/plain": [
       "<Figure size 432x288 with 1 Axes>"
      ]
     },
     "metadata": {
      "needs_background": "light"
     },
     "output_type": "display_data"
    }
   ],
   "source": [
    "%%local\n",
    "plt.bar(pandas_df4['day'], pandas_df4['fraud_avg'], color = 'red')\n",
    "plt.xlabel('Day')\n",
    "plt.ylabel('Average Fraud')\n",
    "plt.title('Average Fraud by Day of Month')\n",
    "plt.show()"
   ]
  },
  {
   "cell_type": "code",
   "execution_count": 109,
   "id": "5503ab5d-22da-421e-90c9-7efec455d552",
   "metadata": {
    "tags": []
   },
   "outputs": [
    {
     "data": {
      "application/vnd.jupyter.widget-view+json": {
       "model_id": "",
       "version_major": 2,
       "version_minor": 0
      },
      "text/plain": [
       "FloatProgress(value=0.0, bar_style='info', description='Progress:', layout=Layout(height='25px', width='50%'),…"
      ]
     },
     "metadata": {},
     "output_type": "display_data"
    },
    {
     "name": "stdout",
     "output_type": "stream",
     "text": [
      "+---------+--------------------+\n",
      "|FraudType|           fraud_avg|\n",
      "+---------+--------------------+\n",
      "|    DEBIT|                 0.0|\n",
      "|  PAYMENT|                 0.0|\n",
      "|  CASH_IN|                 0.0|\n",
      "| CASH_OUT|0.001839553072625...|\n",
      "| TRANSFER|0.007687991758442811|\n",
      "+---------+--------------------+"
     ]
    }
   ],
   "source": [
    "#Fraud rates by payment type \n",
    "df.createOrReplaceTempView(\"my_table\")\n",
    "fraud_payment = spark.sql(\"\"\"\n",
    "    SELECT (type) as FraudType, avg(isFraud) as fraud_avg\n",
    "    FROM my_table\n",
    "    GROUP BY type order by fraud_avg\n",
    "\"\"\")\n",
    "\n",
    "fraud_payment.show()"
   ]
  },
  {
   "cell_type": "code",
   "execution_count": 110,
   "id": "7d1786b1-3fc0-4590-93d7-9e277bf34a41",
   "metadata": {
    "tags": []
   },
   "outputs": [
    {
     "data": {
      "application/vnd.jupyter.widget-view+json": {
       "model_id": "",
       "version_major": 2,
       "version_minor": 0
      },
      "text/plain": [
       "FloatProgress(value=0.0, bar_style='info', description='Progress:', layout=Layout(height='25px', width='50%'),…"
      ]
     },
     "metadata": {},
     "output_type": "display_data"
    },
    {
     "name": "stdout",
     "output_type": "stream",
     "text": [
      "+---------+--------------------+\n",
      "|FraudType|           fraud_avg|\n",
      "+---------+--------------------+\n",
      "|    DEBIT|                 0.0|\n",
      "|  PAYMENT|                 0.0|\n",
      "|  CASH_IN|                 0.0|\n",
      "| CASH_OUT|0.001839553072625...|\n",
      "| TRANSFER|0.007687991758442811|\n",
      "+---------+--------------------+"
     ]
    },
    {
     "data": {
      "application/vnd.jupyter.widget-view+json": {
       "model_id": "",
       "version_major": 2,
       "version_minor": 0
      },
      "text/plain": [
       "FloatProgress(value=0.0, bar_style='info', description='Progress:', layout=Layout(height='25px', width='50%'),…"
      ]
     },
     "metadata": {},
     "output_type": "display_data"
    }
   ],
   "source": [
    "%%spark -o pandas_df5\n",
    "pandas_df5 = fraud_payment\n",
    "pandas_df5.show()"
   ]
  },
  {
   "cell_type": "code",
   "execution_count": 111,
   "id": "bdfbf54b-3f35-4d1f-b654-2d71af57c10e",
   "metadata": {
    "tags": []
   },
   "outputs": [
    {
     "data": {
      "image/png": "[encoded data removed]",
      "text/plain": [
       "<Figure size 432x288 with 1 Axes>"
      ]
     },
     "metadata": {
      "needs_background": "light"
     },
     "output_type": "display_data"
    }
   ],
   "source": [
    "%%local\n",
    "plt.bar(pandas_df5['FraudType'], pandas_df5['fraud_avg'], color = 'orange')\n",
    "plt.xlabel('Transaction Type')\n",
    "plt.ylabel('Average Fraud')\n",
    "plt.title('Average Fraud by Transaction Type')\n",
    "plt.show()"
   ]
  },
  {
   "cell_type": "code",
   "execution_count": 112,
   "id": "bce47d08-6754-49ff-8977-7a7879230deb",
   "metadata": {
    "tags": []
   },
   "outputs": [
    {
     "data": {
      "application/vnd.jupyter.widget-view+json": {
       "model_id": "",
       "version_major": 2,
       "version_minor": 0
      },
      "text/plain": [
       "FloatProgress(value=0.0, bar_style='info', description='Progress:', layout=Layout(height='25px', width='50%'),…"
      ]
     },
     "metadata": {},
     "output_type": "display_data"
    },
    {
     "name": "stdout",
     "output_type": "stream",
     "text": [
      "+---------+-----------+\n",
      "|FraudType|fraud_count|\n",
      "+---------+-----------+\n",
      "|    DEBIT|          0|\n",
      "|  PAYMENT|          0|\n",
      "|  CASH_IN|          0|\n",
      "| TRANSFER|       4097|\n",
      "| CASH_OUT|       4116|\n",
      "+---------+-----------+"
     ]
    }
   ],
   "source": [
    "#Fraud rates by payment type \n",
    "fraud_psum = spark.sql(\"\"\"\n",
    "    SELECT (type) as FraudType, sum(isFraud) as fraud_count\n",
    "    FROM my_table\n",
    "    GROUP BY type order by fraud_count\n",
    "\"\"\")\n",
    "\n",
    "fraud_psum.show()"
   ]
  },
  {
   "cell_type": "code",
   "execution_count": 113,
   "id": "4d89045d-d9f6-4bf5-bc83-8c3269af4735",
   "metadata": {
    "tags": []
   },
   "outputs": [
    {
     "data": {
      "application/vnd.jupyter.widget-view+json": {
       "model_id": "",
       "version_major": 2,
       "version_minor": 0
      },
      "text/plain": [
       "FloatProgress(value=0.0, bar_style='info', description='Progress:', layout=Layout(height='25px', width='50%'),…"
      ]
     },
     "metadata": {},
     "output_type": "display_data"
    },
    {
     "name": "stdout",
     "output_type": "stream",
     "text": [
      "+---------+-----------+\n",
      "|FraudType|fraud_count|\n",
      "+---------+-----------+\n",
      "|    DEBIT|          0|\n",
      "|  PAYMENT|          0|\n",
      "|  CASH_IN|          0|\n",
      "| TRANSFER|       4097|\n",
      "| CASH_OUT|       4116|\n",
      "+---------+-----------+"
     ]
    },
    {
     "data": {
      "application/vnd.jupyter.widget-view+json": {
       "model_id": "",
       "version_major": 2,
       "version_minor": 0
      },
      "text/plain": [
       "FloatProgress(value=0.0, bar_style='info', description='Progress:', layout=Layout(height='25px', width='50%'),…"
      ]
     },
     "metadata": {},
     "output_type": "display_data"
    }
   ],
   "source": [
    "%%spark -o pandas_df6\n",
    "pandas_df6 = fraud_psum\n",
    "pandas_df6.show()"
   ]
  },
  {
   "cell_type": "code",
   "execution_count": 114,
   "id": "8bd94d7b-0ba4-4f47-b99b-e46622e6d3fc",
   "metadata": {
    "tags": []
   },
   "outputs": [
    {
     "data": {
      "image/png": "[encoded data removed]",
      "text/plain": [
       "<Figure size 432x288 with 1 Axes>"
      ]
     },
     "metadata": {
      "needs_background": "light"
     },
     "output_type": "display_data"
    }
   ],
   "source": [
    "%%local\n",
    "plt.bar(pandas_df6['FraudType'], pandas_df6['fraud_count'], color = 'orange')\n",
    "plt.xlabel('Transaction Type')\n",
    "plt.ylabel('Fraud Count')\n",
    "plt.title('Fraud Count by Transaction Type')\n",
    "plt.show()"
   ]
  },
  {
   "cell_type": "code",
   "execution_count": 122,
   "id": "2b6b7ab2",
   "metadata": {},
   "outputs": [
    {
     "data": {
      "application/vnd.jupyter.widget-view+json": {
       "model_id": "",
       "version_major": 2,
       "version_minor": 0
      },
      "text/plain": [
       "FloatProgress(value=0.0, bar_style='info', description='Progress:', layout=Layout(height='25px', width='50%'),…"
      ]
     },
     "metadata": {},
     "output_type": "display_data"
    },
    {
     "name": "stdout",
     "output_type": "stream",
     "text": [
      "+-----------------+-------+\n",
      "|           Amount|isFraud|\n",
      "+-----------------+-------+\n",
      "|1467967.299140387|      1|\n",
      "| 178197.041727408|      0|\n",
      "+-----------------+-------+"
     ]
    }
   ],
   "source": [
    "fraud_amount = spark.sql(\"\"\"\n",
    "    SELECT mean(amount) as Amount, isFraud\n",
    "    FROM my_table\n",
    "    GROUP BY isFraud\n",
    "\"\"\")\n",
    "\n",
    "fraud_amount.show()"
   ]
  },
  {
   "cell_type": "code",
   "execution_count": 116,
   "id": "a1f427cc",
   "metadata": {},
   "outputs": [
    {
     "data": {
      "application/vnd.jupyter.widget-view+json": {
       "model_id": "",
       "version_major": 2,
       "version_minor": 0
      },
      "text/plain": [
       "FloatProgress(value=0.0, bar_style='info', description='Progress:', layout=Layout(height='25px', width='50%'),…"
      ]
     },
     "metadata": {},
     "output_type": "display_data"
    },
    {
     "data": {
      "application/vnd.jupyter.widget-view+json": {
       "model_id": "",
       "version_major": 2,
       "version_minor": 0
      },
      "text/plain": [
       "FloatProgress(value=0.0, bar_style='info', description='Progress:', layout=Layout(height='25px', width='50%'),…"
      ]
     },
     "metadata": {},
     "output_type": "display_data"
    }
   ],
   "source": [
    "%%spark -o pandas_df7\n",
    "pandas_df7 = fraud_amount"
   ]
  },
  {
   "cell_type": "code",
   "execution_count": 117,
   "id": "0c0290d6",
   "metadata": {},
   "outputs": [
    {
     "data": {
      "image/png": "[encoded data removed]",
      "text/plain": [
       "<Figure size 432x288 with 1 Axes>"
      ]
     },
     "metadata": {
      "needs_background": "light"
     },
     "output_type": "display_data"
    }
   ],
   "source": [
    "%%local\n",
    "plt.bar(pandas_df7['isFraud'], pandas_df7['Amount'], color = 'darkgreen', width = 0.1)\n",
    "plt.xlabel('Fraud')\n",
    "plt.ylabel('Amount ($)')\n",
    "plt.title('Amount of Transaction By Fraud Type')\n",
    "plt.xticks([0, 1])\n",
    "plt.show()"
   ]
  },
  {
   "cell_type": "code",
   "execution_count": 118,
   "id": "ba83e61c",
   "metadata": {},
   "outputs": [
    {
     "data": {
      "application/vnd.jupyter.widget-view+json": {
       "model_id": "",
       "version_major": 2,
       "version_minor": 0
      },
      "text/plain": [
       "FloatProgress(value=0.0, bar_style='info', description='Progress:', layout=Layout(height='25px', width='50%'),…"
      ]
     },
     "metadata": {},
     "output_type": "display_data"
    }
   ],
   "source": [
    "f = df.filter(df.isFraud == 1)"
   ]
  },
  {
   "cell_type": "code",
   "execution_count": 119,
   "id": "84bfdfab",
   "metadata": {},
   "outputs": [
    {
     "data": {
      "application/vnd.jupyter.widget-view+json": {
       "model_id": "",
       "version_major": 2,
       "version_minor": 0
      },
      "text/plain": [
       "FloatProgress(value=0.0, bar_style='info', description='Progress:', layout=Layout(height='25px', width='50%'),…"
      ]
     },
     "metadata": {},
     "output_type": "display_data"
    },
    {
     "data": {
      "application/vnd.jupyter.widget-view+json": {
       "model_id": "",
       "version_major": 2,
       "version_minor": 0
      },
      "text/plain": [
       "FloatProgress(value=0.0, bar_style='info', description='Progress:', layout=Layout(height='25px', width='50%'),…"
      ]
     },
     "metadata": {},
     "output_type": "display_data"
    }
   ],
   "source": [
    "%%spark -o fraud_df\n",
    "fraud_df = f"
   ]
  },
  {
   "cell_type": "code",
   "execution_count": 120,
   "id": "ed2462f1",
   "metadata": {},
   "outputs": [
    {
     "data": {
      "image/png": "[encoded data removed]",
      "text/plain": [
       "<Figure size 432x288 with 1 Axes>"
      ]
     },
     "metadata": {
      "needs_background": "light"
     },
     "output_type": "display_data"
    }
   ],
   "source": [
    "%%local\n",
    "import matplotlib.pyplot as plt\n",
    "plt.hist(fraud_df.amount, color='darkgreen')\n",
    "plt.xlabel('Amount')\n",
    "plt.ylabel('Number of Transactions')\n",
    "plt.title('Amount Distribution in Fraudulent Transactions')\n",
    "plt.ticklabel_format(style='plain', axis='both')\n",
    "\n",
    "plt.show()"
   ]
  },
  {
   "cell_type": "code",
   "execution_count": 121,
   "id": "576a1ad0",
   "metadata": {},
   "outputs": [
    {
     "data": {
      "application/vnd.jupyter.widget-view+json": {
       "model_id": "",
       "version_major": 2,
       "version_minor": 0
      },
      "text/plain": [
       "FloatProgress(value=0.0, bar_style='info', description='Progress:', layout=Layout(height='25px', width='50%'),…"
      ]
     },
     "metadata": {},
     "output_type": "display_data"
    },
    {
     "name": "stdout",
     "output_type": "stream",
     "text": [
      "+------------------+\n",
      "|       avg(Amount)|\n",
      "+------------------+\n",
      "|179861.90354913133|\n",
      "+------------------+"
     ]
    }
   ],
   "source": [
    "from pyspark.sql.functions import mean\n",
    "df.select(mean(\"Amount\")).show()"
   ]
  },
  {
   "cell_type": "code",
   "execution_count": 41,
   "id": "83d55533",
   "metadata": {},
   "outputs": [
    {
     "data": {
      "application/vnd.jupyter.widget-view+json": {
       "model_id": "",
       "version_major": 2,
       "version_minor": 0
      },
      "text/plain": [
       "FloatProgress(value=0.0, bar_style='info', description='Progress:', layout=Layout(height='25px', width='50%'),…"
      ]
     },
     "metadata": {},
     "output_type": "display_data"
    },
    {
     "name": "stdout",
     "output_type": "stream",
     "text": [
      "+------------------+-------+\n",
      "|       Old_Balance|isFraud|\n",
      "+------------------+-------+\n",
      "|1649667.6057116766|      1|\n",
      "| 832828.7117272614|      0|\n",
      "+------------------+-------+"
     ]
    }
   ],
   "source": [
    "fraud_old_balance = spark.sql(\"\"\"\n",
    "    SELECT mean(oldbalanceOrg) as Old_Balance, isFraud\n",
    "    FROM my_table\n",
    "    GROUP BY isFraud\n",
    "\"\"\")\n",
    "\n",
    "fraud_old_balance.show()"
   ]
  },
  {
   "cell_type": "code",
   "execution_count": 42,
   "id": "3f041e08",
   "metadata": {},
   "outputs": [
    {
     "data": {
      "application/vnd.jupyter.widget-view+json": {
       "model_id": "",
       "version_major": 2,
       "version_minor": 0
      },
      "text/plain": [
       "FloatProgress(value=0.0, bar_style='info', description='Progress:', layout=Layout(height='25px', width='50%'),…"
      ]
     },
     "metadata": {},
     "output_type": "display_data"
    },
    {
     "name": "stdout",
     "output_type": "stream",
     "text": [
      "+-------------+-----------+\n",
      "|    Type_Orig|fraud_count|\n",
      "+-------------+-----------+\n",
      "|Customer_Orig|       8213|\n",
      "+-------------+-----------+"
     ]
    }
   ],
   "source": [
    "cust_fraud = spark.sql(\"\"\"\n",
    "    SELECT Type_Orig, sum(isFraud) as fraud_count\n",
    "    FROM my_table\n",
    "    GROUP BY Type_Orig\n",
    "\"\"\") \n",
    "\n",
    "cust_fraud.show()"
   ]
  },
  {
   "cell_type": "code",
   "execution_count": 43,
   "id": "5cdd9313",
   "metadata": {},
   "outputs": [
    {
     "data": {
      "application/vnd.jupyter.widget-view+json": {
       "model_id": "",
       "version_major": 2,
       "version_minor": 0
      },
      "text/plain": [
       "FloatProgress(value=0.0, bar_style='info', description='Progress:', layout=Layout(height='25px', width='50%'),…"
      ]
     },
     "metadata": {},
     "output_type": "display_data"
    },
    {
     "name": "stdout",
     "output_type": "stream",
     "text": [
      "+-------------+-----------+\n",
      "|    Type_Dest|fraud_count|\n",
      "+-------------+-----------+\n",
      "|Merchant_Dest|          0|\n",
      "|Customer_Dest|       8213|\n",
      "+-------------+-----------+"
     ]
    }
   ],
   "source": [
    "rec_fraud = spark.sql(\"\"\"\n",
    "    SELECT Type_Dest, sum(isFraud) as fraud_count\n",
    "    FROM my_table\n",
    "    GROUP BY Type_Dest ORDER BY fraud_count\n",
    "\"\"\")\n",
    "\n",
    "rec_fraud.show()"
   ]
  },
  {
   "cell_type": "code",
   "execution_count": 44,
   "id": "17e166e4",
   "metadata": {},
   "outputs": [
    {
     "data": {
      "application/vnd.jupyter.widget-view+json": {
       "model_id": "",
       "version_major": 2,
       "version_minor": 0
      },
      "text/plain": [
       "FloatProgress(value=0.0, bar_style='info', description='Progress:', layout=Layout(height='25px', width='50%'),…"
      ]
     },
     "metadata": {},
     "output_type": "display_data"
    },
    {
     "data": {
      "application/vnd.jupyter.widget-view+json": {
       "model_id": "",
       "version_major": 2,
       "version_minor": 0
      },
      "text/plain": [
       "FloatProgress(value=0.0, bar_style='info', description='Progress:', layout=Layout(height='25px', width='50%'),…"
      ]
     },
     "metadata": {},
     "output_type": "display_data"
    }
   ],
   "source": [
    "%%spark -o pandas_df8\n",
    "pandas_df8 = rec_fraud"
   ]
  },
  {
   "cell_type": "code",
   "execution_count": 45,
   "id": "363659d2",
   "metadata": {},
   "outputs": [
    {
     "data": {
      "image/png": "[encoded data removed]",
      "text/plain": [
       "<Figure size 432x288 with 1 Axes>"
      ]
     },
     "metadata": {
      "needs_background": "light"
     },
     "output_type": "display_data"
    }
   ],
   "source": [
    "%%local\n",
    "import matplotlib.pyplot as plt\n",
    "\n",
    "plt.bar(pandas_df8['Type_Dest'], pandas_df8['fraud_count'], color = \"brown\")\n",
    "plt.xlabel('Recipient Type')\n",
    "plt.ylabel('Fraud Count')\n",
    "plt.title('Fraud Count by Recipient Type')\n",
    "plt.show()"
   ]
  },
  {
   "cell_type": "code",
   "execution_count": 46,
   "id": "2e6f3cbc",
   "metadata": {},
   "outputs": [
    {
     "data": {
      "application/vnd.jupyter.widget-view+json": {
       "model_id": "",
       "version_major": 2,
       "version_minor": 0
      },
      "text/plain": [
       "FloatProgress(value=0.0, bar_style='info', description='Progress:', layout=Layout(height='25px', width='50%'),…"
      ]
     },
     "metadata": {},
     "output_type": "display_data"
    },
    {
     "name": "stdout",
     "output_type": "stream",
     "text": [
      "+------------------+-------+\n",
      "|       New_balance|isFraud|\n",
      "+------------------+-------+\n",
      "|192392.63183611346|      1|\n",
      "| 855970.2281088107|      0|\n",
      "+------------------+-------+"
     ]
    }
   ],
   "source": [
    "fraud_new_balance = spark.sql(\"\"\"\n",
    "    SELECT mean(newbalanceOrig) as New_balance, isFraud\n",
    "    FROM my_table\n",
    "    GROUP BY isFraud\n",
    "\"\"\")\n",
    "\n",
    "fraud_new_balance.show()"
   ]
  },
  {
   "cell_type": "code",
   "execution_count": 47,
   "id": "50d79bd9",
   "metadata": {},
   "outputs": [
    {
     "data": {
      "application/vnd.jupyter.widget-view+json": {
       "model_id": "",
       "version_major": 2,
       "version_minor": 0
      },
      "text/plain": [
       "FloatProgress(value=0.0, bar_style='info', description='Progress:', layout=Layout(height='25px', width='50%'),…"
      ]
     },
     "metadata": {},
     "output_type": "display_data"
    },
    {
     "name": "stdout",
     "output_type": "stream",
     "text": [
      "+-----------+--------------------+\n",
      "|hour_of_day|           fraud_avg|\n",
      "+-----------+--------------------+\n",
      "|         18|5.279293130435587E-4|\n",
      "|         17|5.908607790749153E-4|\n",
      "|         19|6.140198797965788E-4|\n",
      "|         11|7.012564695563673E-4|\n",
      "|         10|7.264704299628692E-4|\n",
      "|         12|7.385682022908422E-4|\n",
      "|         15|7.812287709573109E-4|\n",
      "|         16|8.023803191791627E-4|\n",
      "|         13|8.029059280841937E-4|\n",
      "|         14|8.183620280019007E-4|\n",
      "|          9|8.808420380100957E-4|\n",
      "|          8|0.001202745504694...|\n",
      "|         20|0.001400288935699...|\n",
      "|         21|0.001804117087712986|\n",
      "|         22|0.002286612344874944|\n",
      "|         23|0.004190705016273904|\n",
      "|          0|0.013204972151525211|\n",
      "|          7|0.013672673230540592|\n",
      "|          6| 0.03649310191366266|\n",
      "|          1| 0.04125083166999335|\n",
      "+-----------+--------------------+\n",
      "only showing top 20 rows"
     ]
    }
   ],
   "source": [
    "avg_fraud_by_hour = spark.sql(\"\"\"\n",
    "    SELECT hour_of_day, avg(isFraud) as fraud_avg\n",
    "    FROM my_table\n",
    "    GROUP BY hour_of_day order by fraud_avg\n",
    "\"\"\")\n",
    "avg_fraud_by_hour.show()"
   ]
  },
  {
   "cell_type": "code",
   "execution_count": 48,
   "id": "ff90d8c4",
   "metadata": {},
   "outputs": [
    {
     "data": {
      "application/vnd.jupyter.widget-view+json": {
       "model_id": "",
       "version_major": 2,
       "version_minor": 0
      },
      "text/plain": [
       "FloatProgress(value=0.0, bar_style='info', description='Progress:', layout=Layout(height='25px', width='50%'),…"
      ]
     },
     "metadata": {},
     "output_type": "display_data"
    },
    {
     "data": {
      "application/vnd.jupyter.widget-view+json": {
       "model_id": "",
       "version_major": 2,
       "version_minor": 0
      },
      "text/plain": [
       "FloatProgress(value=0.0, bar_style='info', description='Progress:', layout=Layout(height='25px', width='50%'),…"
      ]
     },
     "metadata": {},
     "output_type": "display_data"
    }
   ],
   "source": [
    "%%spark -o pandas_df9\n",
    "pandas_df9 = avg_fraud_by_hour"
   ]
  },
  {
   "cell_type": "code",
   "execution_count": 49,
   "id": "172dd7bf",
   "metadata": {},
   "outputs": [
    {
     "data": {
      "image/png": "[encoded data removed]",
      "text/plain": [
       "<Figure size 432x288 with 1 Axes>"
      ]
     },
     "metadata": {
      "needs_background": "light"
     },
     "output_type": "display_data"
    }
   ],
   "source": [
    "%%local\n",
    "\n",
    "plt.bar(pandas_df9['hour_of_day'], pandas_df9['fraud_avg'], color = \"#9FE2BF\")\n",
    "plt.xlabel('Hour of Day')\n",
    "plt.ylabel('Fraud Average')\n",
    "plt.title('Average Fraud by Hour of Day')\n",
    "plt.show()"
   ]
  },
  {
   "cell_type": "markdown",
   "id": "9a3b13e6-7c32-4f17-84bd-e78b8ac8f1d5",
   "metadata": {},
   "source": [
    "Preparing the data for random forest"
   ]
  },
  {
   "cell_type": "code",
   "execution_count": 50,
   "id": "99392aa0-1e2d-4aff-b335-50c1279a1497",
   "metadata": {
    "tags": []
   },
   "outputs": [
    {
     "data": {
      "application/vnd.jupyter.widget-view+json": {
       "model_id": "",
       "version_major": 2,
       "version_minor": 0
      },
      "text/plain": [
       "FloatProgress(value=0.0, bar_style='info', description='Progress:', layout=Layout(height='25px', width='50%'),…"
      ]
     },
     "metadata": {},
     "output_type": "display_data"
    },
    {
     "name": "stdout",
     "output_type": "stream",
     "text": [
      "root\n",
      " |-- step: integer (nullable = true)\n",
      " |-- type: string (nullable = true)\n",
      " |-- amount: double (nullable = true)\n",
      " |-- nameOrig: string (nullable = true)\n",
      " |-- oldbalanceOrg: double (nullable = true)\n",
      " |-- newbalanceOrig: double (nullable = true)\n",
      " |-- nameDest: string (nullable = true)\n",
      " |-- oldbalanceDest: double (nullable = true)\n",
      " |-- newbalanceDest: double (nullable = true)\n",
      " |-- isFraud: integer (nullable = true)\n",
      " |-- isFlaggedFraud: integer (nullable = true)\n",
      " |-- Type_Dest: string (nullable = false)\n",
      " |-- Type_Orig: string (nullable = false)\n",
      " |-- hour_of_day: integer (nullable = true)\n",
      " |-- day: long (nullable = true)\n",
      " |-- time_of_day: string (nullable = false)"
     ]
    }
   ],
   "source": [
    "df.printSchema()"
   ]
  },
  {
   "cell_type": "code",
   "execution_count": 51,
   "id": "252926e7-4f77-482b-9a12-ee8b5466c3b0",
   "metadata": {
    "tags": []
   },
   "outputs": [
    {
     "data": {
      "application/vnd.jupyter.widget-view+json": {
       "model_id": "",
       "version_major": 2,
       "version_minor": 0
      },
      "text/plain": [
       "FloatProgress(value=0.0, bar_style='info', description='Progress:', layout=Layout(height='25px', width='50%'),…"
      ]
     },
     "metadata": {},
     "output_type": "display_data"
    },
    {
     "name": "stdout",
     "output_type": "stream",
     "text": [
      "CASH_OUT\n",
      "CASH_IN\n",
      "PAYMENT\n",
      "DEBIT\n",
      "TRANSFER"
     ]
    }
   ],
   "source": [
    "unique_vals = df.select('type').distinct().collect()\n",
    "for val in unique_vals:\n",
    "    print(val[0])"
   ]
  },
  {
   "cell_type": "markdown",
   "id": "cfcb8385",
   "metadata": {},
   "source": [
    "Creating dummy columns for categorical variables"
   ]
  },
  {
   "cell_type": "code",
   "execution_count": 52,
   "id": "41289e13-21f8-4406-ac3a-c06ff295fd41",
   "metadata": {
    "id": "41289e13-21f8-4406-ac3a-c06ff295fd41",
    "tags": []
   },
   "outputs": [
    {
     "data": {
      "application/vnd.jupyter.widget-view+json": {
       "model_id": "",
       "version_major": 2,
       "version_minor": 0
      },
      "text/plain": [
       "FloatProgress(value=0.0, bar_style='info', description='Progress:', layout=Layout(height='25px', width='50%'),…"
      ]
     },
     "metadata": {},
     "output_type": "display_data"
    }
   ],
   "source": [
    "from pyspark.sql.functions import col, when, regexp_extract, trim\n",
    "from pyspark.sql.types import DoubleType, IntegerType\n",
    "\n",
    "# Convert categorical columns to numerical values using one-hot encoding\n",
    "df = df.select('*', *[when(col('type') == val, 1).otherwise(0).alias(val) for val in ['CASH_OUT', 'CASH_IN', 'TRANSFER', 'DEBIT', 'PAYMENT']])\n",
    "df = df.select('*', *[when(col('Type_Orig') == val, 1).otherwise(0).alias(val) for val in ['Merchant_Orig', 'Customer_Orig']])\n",
    "df = df.select('*', *[when(col('Type_Dest') == val, 1).otherwise(0).alias(val) for val in ['Merchant_Dest', 'Customer_Dest']])\n",
    "df = df.select('*', *[when(col('time_of_day') == val, 1).otherwise(0).alias(val) for val in ['morning', 'afternoon', 'evening', 'night']])\n",
    "df = df.drop('type', 'Type_Orig', 'Type_Dest', 'time_of_day')\n",
    "\n",
    "# Extract numeric value from nameOrig and nameDest columns\n",
    "df = df.withColumn('nameOrig', regexp_extract(trim(col('nameOrig')), '\\d+', 0).cast(IntegerType()))\n",
    "df = df.withColumn('nameDest', regexp_extract(trim(col('nameDest')), '\\d+', 0).cast(IntegerType()))\n"
   ]
  },
  {
   "cell_type": "code",
   "execution_count": 53,
   "id": "08cc9726-a4e2-4387-a356-e54706517796",
   "metadata": {
    "id": "08cc9726-a4e2-4387-a356-e54706517796",
    "outputId": "0975fd48-86af-473f-bc6d-c680038a0d02",
    "tags": []
   },
   "outputs": [
    {
     "data": {
      "application/vnd.jupyter.widget-view+json": {
       "model_id": "",
       "version_major": 2,
       "version_minor": 0
      },
      "text/plain": [
       "FloatProgress(value=0.0, bar_style='info', description='Progress:', layout=Layout(height='25px', width='50%'),…"
      ]
     },
     "metadata": {},
     "output_type": "display_data"
    },
    {
     "name": "stdout",
     "output_type": "stream",
     "text": [
      "root\n",
      " |-- step: integer (nullable = true)\n",
      " |-- amount: double (nullable = true)\n",
      " |-- nameOrig: integer (nullable = true)\n",
      " |-- oldbalanceOrg: double (nullable = true)\n",
      " |-- newbalanceOrig: double (nullable = true)\n",
      " |-- nameDest: integer (nullable = true)\n",
      " |-- oldbalanceDest: double (nullable = true)\n",
      " |-- newbalanceDest: double (nullable = true)\n",
      " |-- isFraud: integer (nullable = true)\n",
      " |-- isFlaggedFraud: integer (nullable = true)\n",
      " |-- hour_of_day: integer (nullable = true)\n",
      " |-- day: long (nullable = true)\n",
      " |-- CASH_OUT: integer (nullable = false)\n",
      " |-- CASH_IN: integer (nullable = false)\n",
      " |-- TRANSFER: integer (nullable = false)\n",
      " |-- DEBIT: integer (nullable = false)\n",
      " |-- PAYMENT: integer (nullable = false)\n",
      " |-- Merchant_Orig: integer (nullable = false)\n",
      " |-- Customer_Orig: integer (nullable = false)\n",
      " |-- Merchant_Dest: integer (nullable = false)\n",
      " |-- Customer_Dest: integer (nullable = false)\n",
      " |-- morning: integer (nullable = false)\n",
      " |-- afternoon: integer (nullable = false)\n",
      " |-- evening: integer (nullable = false)\n",
      " |-- night: integer (nullable = false)"
     ]
    }
   ],
   "source": [
    "df.printSchema()"
   ]
  },
  {
   "cell_type": "code",
   "execution_count": 54,
   "id": "a168eaa9-d9d6-41cf-895e-451790a24393",
   "metadata": {
    "tags": []
   },
   "outputs": [
    {
     "data": {
      "application/vnd.jupyter.widget-view+json": {
       "model_id": "",
       "version_major": 2,
       "version_minor": 0
      },
      "text/plain": [
       "FloatProgress(value=0.0, bar_style='info', description='Progress:', layout=Layout(height='25px', width='50%'),…"
      ]
     },
     "metadata": {},
     "output_type": "display_data"
    },
    {
     "name": "stdout",
     "output_type": "stream",
     "text": [
      "+----+---------+----------+-------------+--------------+----------+--------------+--------------+-------+--------------+-----------+---+--------+-------+--------+-----+-------+-------------+-------------+-------------+-------------+-------+---------+-------+-----+\n",
      "|step|   amount|  nameOrig|oldbalanceOrg|newbalanceOrig|  nameDest|oldbalanceDest|newbalanceDest|isFraud|isFlaggedFraud|hour_of_day|day|CASH_OUT|CASH_IN|TRANSFER|DEBIT|PAYMENT|Merchant_Orig|Customer_Orig|Merchant_Dest|Customer_Dest|morning|afternoon|evening|night|\n",
      "+----+---------+----------+-------------+--------------+----------+--------------+--------------+-------+--------------+-----------+---+--------+-------+--------+-----+-------+-------------+-------------+-------------+-------------+-------+---------+-------+-----+\n",
      "|  22|   216.19|1444210311|          0.0|           0.0|1981278780|     498988.87|     499205.05|      0|             0|         21|  1|       0|      0|       0|    1|      0|            0|            1|            0|            1|      0|        0|      0|    1|\n",
      "|  22|194826.12| 297824946|      50996.0|     245822.12|1234163783|     106428.42|           0.0|      0|             0|         21|  1|       0|      1|       0|    0|      0|            0|            1|            0|            1|      0|        0|      0|    1|\n",
      "|  22|170241.57| 588128592|      69665.0|           0.0| 362031029|     268875.07|     439116.64|      0|             0|         21|  1|       0|      0|       1|    0|      0|            0|            1|            0|            1|      0|        0|      0|    1|\n",
      "|  22|158677.47| 141359102|          0.0|           0.0| 128931614|    3696879.17|    3855556.64|      0|             0|         21|  1|       1|      0|       0|    0|      0|            0|            1|            0|            1|      0|        0|      0|    1|\n",
      "|  22|118433.14|1495728059|    864024.28|     982457.43| 115457323|    3386178.07|    3267744.93|      0|             0|         21|  1|       0|      1|       0|    0|      0|            0|            1|            0|            1|      0|        0|      0|    1|\n",
      "+----+---------+----------+-------------+--------------+----------+--------------+--------------+-------+--------------+-----------+---+--------+-------+--------+-----+-------+-------------+-------------+-------------+-------------+-------+---------+-------+-----+\n",
      "only showing top 5 rows"
     ]
    }
   ],
   "source": [
    "df.show(5)"
   ]
  },
  {
   "cell_type": "code",
   "execution_count": 55,
   "id": "4c2f4bfa-7c10-4503-b6b0-7ba6b27b4182",
   "metadata": {
    "id": "4c2f4bfa-7c10-4503-b6b0-7ba6b27b4182",
    "tags": []
   },
   "outputs": [
    {
     "data": {
      "application/vnd.jupyter.widget-view+json": {
       "model_id": "",
       "version_major": 2,
       "version_minor": 0
      },
      "text/plain": [
       "FloatProgress(value=0.0, bar_style='info', description='Progress:', layout=Layout(height='25px', width='50%'),…"
      ]
     },
     "metadata": {},
     "output_type": "display_data"
    }
   ],
   "source": [
    "#remove the step column\n",
    "df = df.drop(\"step\")"
   ]
  },
  {
   "cell_type": "markdown",
   "id": "127a75f6-fb0d-4adf-8aea-20c834b80eed",
   "metadata": {
    "id": "2c13ff9a-e9fc-4a24-96ea-8d946c8c47d9"
   },
   "source": [
    "Splitting data into train and test"
   ]
  },
  {
   "cell_type": "code",
   "execution_count": 56,
   "id": "722cfd38-861c-405e-91bb-97a1ff121479",
   "metadata": {
    "id": "722cfd38-861c-405e-91bb-97a1ff121479",
    "tags": []
   },
   "outputs": [
    {
     "data": {
      "application/vnd.jupyter.widget-view+json": {
       "model_id": "",
       "version_major": 2,
       "version_minor": 0
      },
      "text/plain": [
       "FloatProgress(value=0.0, bar_style='info', description='Progress:', layout=Layout(height='25px', width='50%'),…"
      ]
     },
     "metadata": {},
     "output_type": "display_data"
    }
   ],
   "source": [
    "#training = first 16 days, testing = last 11 days \n",
    "train = df.filter(df.day <= 16)\n",
    "test = df.filter(df.day > 16)"
   ]
  },
  {
   "cell_type": "markdown",
   "id": "722ec775-997a-4aa1-8fe8-eebd58b83e27",
   "metadata": {
    "id": "722ec775-997a-4aa1-8fe8-eebd58b83e27"
   },
   "source": [
    "#Exploding the Training Data"
   ]
  },
  {
   "cell_type": "code",
   "execution_count": 57,
   "id": "a301a028-d4d1-4f05-a16b-60e4dba99838",
   "metadata": {
    "id": "a301a028-d4d1-4f05-a16b-60e4dba99838",
    "outputId": "ed058165-4822-434b-b5d2-bd80b84a9bca",
    "tags": []
   },
   "outputs": [
    {
     "data": {
      "application/vnd.jupyter.widget-view+json": {
       "model_id": "",
       "version_major": 2,
       "version_minor": 0
      },
      "text/plain": [
       "FloatProgress(value=0.0, bar_style='info', description='Progress:', layout=Layout(height='25px', width='50%'),…"
      ]
     },
     "metadata": {},
     "output_type": "display_data"
    },
    {
     "name": "stdout",
     "output_type": "stream",
     "text": [
      "ratio: 1301"
     ]
    }
   ],
   "source": [
    "from pyspark.sql.functions import col, explode, array, lit\n",
    "\n",
    "major_df = train.filter(col(\"isFraud\") == 0)\n",
    "minor_df = train.filter(col(\"isFraud\") == 1)\n",
    "ratio = int(major_df.count()/minor_df.count())\n",
    "print(\"ratio: {}\".format(ratio))"
   ]
  },
  {
   "cell_type": "code",
   "execution_count": 58,
   "id": "72c09602-f150-4b95-9aeb-4b30d05adf47",
   "metadata": {
    "id": "72c09602-f150-4b95-9aeb-4b30d05adf47",
    "tags": []
   },
   "outputs": [
    {
     "data": {
      "application/vnd.jupyter.widget-view+json": {
       "model_id": "",
       "version_major": 2,
       "version_minor": 0
      },
      "text/plain": [
       "FloatProgress(value=0.0, bar_style='info', description='Progress:', layout=Layout(height='25px', width='50%'),…"
      ]
     },
     "metadata": {},
     "output_type": "display_data"
    }
   ],
   "source": [
    "a = range(ratio)\n",
    "# duplicate the minority rows\n",
    "oversampled_df = minor_df.withColumn(\"dummy\", explode(array([lit(x) for x in a]))).drop('dummy')"
   ]
  },
  {
   "cell_type": "code",
   "execution_count": 59,
   "id": "cfa59306-ad3d-43e0-87f4-bd7d0eb327b3",
   "metadata": {
    "id": "cfa59306-ad3d-43e0-87f4-bd7d0eb327b3",
    "outputId": "93bd4a27-6b7e-4e35-953e-71a8f9d1c4c6",
    "tags": []
   },
   "outputs": [
    {
     "data": {
      "application/vnd.jupyter.widget-view+json": {
       "model_id": "",
       "version_major": 2,
       "version_minor": 0
      },
      "text/plain": [
       "FloatProgress(value=0.0, bar_style='info', description='Progress:', layout=Layout(height='25px', width='50%'),…"
      ]
     },
     "metadata": {},
     "output_type": "display_data"
    },
    {
     "name": "stdout",
     "output_type": "stream",
     "text": [
      "+---------+----------+-------------+--------------+----------+--------------+--------------+-------+--------------+-----------+---+--------+-------+--------+-----+-------+-------------+-------------+-------------+-------------+-------+---------+-------+-----+\n",
      "|   amount|  nameOrig|oldbalanceOrg|newbalanceOrig|  nameDest|oldbalanceDest|newbalanceDest|isFraud|isFlaggedFraud|hour_of_day|day|CASH_OUT|CASH_IN|TRANSFER|DEBIT|PAYMENT|Merchant_Orig|Customer_Orig|Merchant_Dest|Customer_Dest|morning|afternoon|evening|night|\n",
      "+---------+----------+-------------+--------------+----------+--------------+--------------+-------+--------------+-----------+---+--------+-------+--------+-----+-------+-------------+-------------+-------------+-------------+-------+---------+-------+-----+\n",
      "|   216.19|1444210311|          0.0|           0.0|1981278780|     498988.87|     499205.05|      0|             0|         21|  1|       0|      0|       0|    1|      0|            0|            1|            0|            1|      0|        0|      0|    1|\n",
      "|194826.12| 297824946|      50996.0|     245822.12|1234163783|     106428.42|           0.0|      0|             0|         21|  1|       0|      1|       0|    0|      0|            0|            1|            0|            1|      0|        0|      0|    1|\n",
      "|170241.57| 588128592|      69665.0|           0.0| 362031029|     268875.07|     439116.64|      0|             0|         21|  1|       0|      0|       1|    0|      0|            0|            1|            0|            1|      0|        0|      0|    1|\n",
      "|158677.47| 141359102|          0.0|           0.0| 128931614|    3696879.17|    3855556.64|      0|             0|         21|  1|       1|      0|       0|    0|      0|            0|            1|            0|            1|      0|        0|      0|    1|\n",
      "|118433.14|1495728059|    864024.28|     982457.43| 115457323|    3386178.07|    3267744.93|      0|             0|         21|  1|       0|      1|       0|    0|      0|            0|            1|            0|            1|      0|        0|      0|    1|\n",
      "| 22085.98|1089947035|      33172.0|      11086.02|1601783053|           0.0|           0.0|      0|             0|         22|  1|       0|      0|       0|    0|      1|            0|            1|            1|            0|      0|        0|      0|    1|\n",
      "|  13217.2|1893916770|      49669.0|       36451.8| 939287318|           0.0|           0.0|      0|             0|         22|  1|       0|      0|       0|    0|      1|            0|            1|            1|            0|      0|        0|      0|    1|\n",
      "|  6127.69| 477702207|          0.0|           0.0|1484488489|           0.0|           0.0|      0|             0|         22|  1|       0|      0|       0|    0|      1|            0|            1|            1|            0|      0|        0|      0|    1|\n",
      "| 28284.86|1269473802|      22640.0|           0.0|2055432036|           0.0|           0.0|      0|             0|         22|  1|       0|      0|       0|    0|      1|            0|            1|            1|            0|      0|        0|      0|    1|\n",
      "| 10455.15|1137065004|     146052.0|     135596.85|1245388035|           0.0|           0.0|      0|             0|         22|  1|       0|      0|       0|    0|      1|            0|            1|            1|            0|      0|        0|      0|    1|\n",
      "| 62743.37|  72993357|   2652479.74|     2715223.1|1668439906|    1132245.31|    1069501.94|      0|             0|         22|  1|       0|      1|       0|    0|      0|            0|            1|            0|            1|      0|        0|      0|    1|\n",
      "|100023.19| 457601831|   2989851.53|    3089874.72|1045591789|    2245823.08|    2145799.89|      0|             0|         22|  1|       0|      1|       0|    0|      0|            0|            1|            0|            1|      0|        0|      0|    1|\n",
      "| 14573.48| 834604639|          0.0|           0.0| 739223103|           0.0|           0.0|      0|             0|         22|  1|       0|      0|       0|    0|      1|            0|            1|            1|            0|      0|        0|      0|    1|\n",
      "| 55188.16| 976841999|          0.0|           0.0| 327467918|      76033.14|      131221.3|      0|             0|         23|  1|       1|      0|       0|    0|      0|            0|            1|            0|            1|      0|        0|      0|    1|\n",
      "|  7553.41| 595070930|          0.0|           0.0|1208848038|           0.0|           0.0|      0|             0|         23|  1|       0|      0|       0|    0|      1|            0|            1|            1|            0|      0|        0|      0|    1|\n",
      "| 37267.21|1609368130|     34973.86|           0.0|1929995374|    1541361.19|     1578628.4|      0|             0|         23|  1|       1|      0|       0|    0|      0|            0|            1|            0|            1|      0|        0|      0|    1|\n",
      "| 97393.77|1668538869|   6616050.79|    6713444.56| 437281357|     179222.58|      81828.81|      0|             0|         23|  1|       0|      1|       0|    0|      0|            0|            1|            0|            1|      0|        0|      0|    1|\n",
      "| 20880.75|1176164139|   2341387.28|    2362268.03| 511621111|      63047.31|      42166.56|      0|             0|         23|  1|       0|      1|       0|    0|      0|            0|            1|            0|            1|      0|        0|      0|    1|\n",
      "|199003.99|1247481470|          0.0|           0.0| 976896991|    2665734.96|    2864738.95|      0|             0|          0|  2|       1|      0|       0|    0|      0|            0|            1|            0|            1|      0|        0|      0|    1|\n",
      "| 751516.7| 365227395|      16594.0|           0.0| 453497137|     186316.71|      937833.4|      0|             0|          0|  2|       0|      0|       1|    0|      0|            0|            1|            0|            1|      0|        0|      0|    1|\n",
      "+---------+----------+-------------+--------------+----------+--------------+--------------+-------+--------------+-----------+---+--------+-------+--------+-----+-------+-------------+-------------+-------------+-------------+-------+---------+-------+-----+\n",
      "only showing top 20 rows"
     ]
    }
   ],
   "source": [
    "# combine both oversampled minority rows and previous majority rows \n",
    "train = major_df.unionAll(oversampled_df)\n",
    "train.show()"
   ]
  },
  {
   "cell_type": "code",
   "execution_count": 60,
   "id": "3a49200d-ba0e-4b04-a2d8-05e05c0e524d",
   "metadata": {
    "id": "3a49200d-ba0e-4b04-a2d8-05e05c0e524d",
    "outputId": "ac925a16-f956-40ca-f2e8-62d1481f257b",
    "tags": []
   },
   "outputs": [
    {
     "data": {
      "application/vnd.jupyter.widget-view+json": {
       "model_id": "",
       "version_major": 2,
       "version_minor": 0
      },
      "text/plain": [
       "FloatProgress(value=0.0, bar_style='info', description='Progress:', layout=Layout(height='25px', width='50%'),…"
      ]
     },
     "metadata": {},
     "output_type": "display_data"
    },
    {
     "name": "stdout",
     "output_type": "stream",
     "text": [
      "ratio: 1"
     ]
    }
   ],
   "source": [
    "#checking new ratio \n",
    "major_df1 = train.filter(col(\"isFraud\") == 0)\n",
    "minor_df1 = train.filter(col(\"isFraud\") == 1)\n",
    "ratio = int(major_df1.count()/minor_df1.count())\n",
    "print(\"ratio: {}\".format(ratio))"
   ]
  },
  {
   "cell_type": "code",
   "execution_count": 61,
   "id": "b068d208-18eb-4c30-8b36-37d9e33abb9f",
   "metadata": {
    "id": "b068d208-18eb-4c30-8b36-37d9e33abb9f",
    "outputId": "b36ce459-4a91-4e6f-c76a-e62d09a0b86f",
    "tags": []
   },
   "outputs": [
    {
     "data": {
      "application/vnd.jupyter.widget-view+json": {
       "model_id": "",
       "version_major": 2,
       "version_minor": 0
      },
      "text/plain": [
       "FloatProgress(value=0.0, bar_style='info', description='Progress:', layout=Layout(height='25px', width='50%'),…"
      ]
     },
     "metadata": {},
     "output_type": "display_data"
    },
    {
     "name": "stdout",
     "output_type": "stream",
     "text": [
      "0.49984641831582854"
     ]
    }
   ],
   "source": [
    "#checking fraud occurrence different method \n",
    "from pyspark.sql.functions import avg as pyspark_avg\n",
    "\n",
    "train_fraud_avg = train.select(pyspark_avg('isFraud')).collect()[0][0]\n",
    "print(train_fraud_avg)"
   ]
  },
  {
   "cell_type": "code",
   "execution_count": 62,
   "id": "91f8bf16-ee23-4ef3-9fbf-a1622bab90d9",
   "metadata": {
    "id": "91f8bf16-ee23-4ef3-9fbf-a1622bab90d9",
    "outputId": "8c6c8752-b1ab-4054-c33a-b553b525dfd8",
    "tags": []
   },
   "outputs": [
    {
     "data": {
      "application/vnd.jupyter.widget-view+json": {
       "model_id": "",
       "version_major": 2,
       "version_minor": 0
      },
      "text/plain": [
       "FloatProgress(value=0.0, bar_style='info', description='Progress:', layout=Layout(height='25px', width='50%'),…"
      ]
     },
     "metadata": {},
     "output_type": "display_data"
    },
    {
     "name": "stdout",
     "output_type": "stream",
     "text": [
      "11111351\n",
      "800969"
     ]
    }
   ],
   "source": [
    "#counting rows in training and testing df \n",
    "num_train = train.count()\n",
    "num_test = test.count()\n",
    "print(num_train)\n",
    "print(num_test)"
   ]
  },
  {
   "cell_type": "code",
   "execution_count": 63,
   "id": "55616747",
   "metadata": {},
   "outputs": [
    {
     "data": {
      "application/vnd.jupyter.widget-view+json": {
       "model_id": "",
       "version_major": 2,
       "version_minor": 0
      },
      "text/plain": [
       "FloatProgress(value=0.0, bar_style='info', description='Progress:', layout=Layout(height='25px', width='50%'),…"
      ]
     },
     "metadata": {},
     "output_type": "display_data"
    }
   ],
   "source": [
    "#Creating pie charts of fraudulent transactions before and after oversampling \n",
    "train_fc = train.groupBy('isFraud').count()"
   ]
  },
  {
   "cell_type": "code",
   "execution_count": 64,
   "id": "0dd81b4b",
   "metadata": {},
   "outputs": [
    {
     "data": {
      "application/vnd.jupyter.widget-view+json": {
       "model_id": "",
       "version_major": 2,
       "version_minor": 0
      },
      "text/plain": [
       "FloatProgress(value=0.0, bar_style='info', description='Progress:', layout=Layout(height='25px', width='50%'),…"
      ]
     },
     "metadata": {},
     "output_type": "display_data"
    },
    {
     "name": "stdout",
     "output_type": "stream",
     "text": [
      "+-------+-------+\n",
      "|isFraud|  count|\n",
      "+-------+-------+\n",
      "|      0|5557382|\n",
      "|      1|5553969|\n",
      "+-------+-------+"
     ]
    },
    {
     "data": {
      "application/vnd.jupyter.widget-view+json": {
       "model_id": "",
       "version_major": 2,
       "version_minor": 0
      },
      "text/plain": [
       "FloatProgress(value=0.0, bar_style='info', description='Progress:', layout=Layout(height='25px', width='50%'),…"
      ]
     },
     "metadata": {},
     "output_type": "display_data"
    }
   ],
   "source": [
    "%%spark -o pandas_df8\n",
    "pandas_df8 = train_fc\n",
    "pandas_df8.show()"
   ]
  },
  {
   "cell_type": "code",
   "execution_count": 65,
   "id": "a7b55f55-5ac9-452d-8f7e-4440151dff42",
   "metadata": {
    "id": "a7b55f55-5ac9-452d-8f7e-4440151dff42",
    "outputId": "f3f1cd52-7de5-4e85-8bc3-ad95f35aef21",
    "scrolled": true,
    "tags": []
   },
   "outputs": [
    {
     "data": {
      "image/png": "[encoded data removed]",
      "text/plain": [
       "<Figure size 432x288 with 1 Axes>"
      ]
     },
     "metadata": {},
     "output_type": "display_data"
    }
   ],
   "source": [
    "%%local\n",
    "\n",
    "plt.pie(pandas_df8['count'],  labels = [\"Non-Fraudulent\", \"Fraudulent\"], autopct='%1.1f%%',\n",
    "       colors = [\"#FFA07A\", \"#1E90FF\"])\n",
    "\n",
    "plt.title('Fraudulent Transactions After Oversampling')\n",
    "plt.axis('equal')\n",
    "plt.show()\n"
   ]
  },
  {
   "cell_type": "code",
   "execution_count": 66,
   "id": "6230e92f",
   "metadata": {},
   "outputs": [
    {
     "data": {
      "application/vnd.jupyter.widget-view+json": {
       "model_id": "",
       "version_major": 2,
       "version_minor": 0
      },
      "text/plain": [
       "FloatProgress(value=0.0, bar_style='info', description='Progress:', layout=Layout(height='25px', width='50%'),…"
      ]
     },
     "metadata": {},
     "output_type": "display_data"
    }
   ],
   "source": [
    "df_fc = df.groupBy('isFraud').count()"
   ]
  },
  {
   "cell_type": "code",
   "execution_count": 67,
   "id": "4c4a0d44",
   "metadata": {},
   "outputs": [
    {
     "data": {
      "application/vnd.jupyter.widget-view+json": {
       "model_id": "",
       "version_major": 2,
       "version_minor": 0
      },
      "text/plain": [
       "FloatProgress(value=0.0, bar_style='info', description='Progress:', layout=Layout(height='25px', width='50%'),…"
      ]
     },
     "metadata": {},
     "output_type": "display_data"
    },
    {
     "name": "stdout",
     "output_type": "stream",
     "text": [
      "+-------+-------+\n",
      "|isFraud|  count|\n",
      "+-------+-------+\n",
      "|      1|   8213|\n",
      "|      0|6354407|\n",
      "+-------+-------+"
     ]
    },
    {
     "data": {
      "application/vnd.jupyter.widget-view+json": {
       "model_id": "",
       "version_major": 2,
       "version_minor": 0
      },
      "text/plain": [
       "FloatProgress(value=0.0, bar_style='info', description='Progress:', layout=Layout(height='25px', width='50%'),…"
      ]
     },
     "metadata": {},
     "output_type": "display_data"
    }
   ],
   "source": [
    "%%spark -o pandas_df9\n",
    "pandas_df9 = df_fc\n",
    "pandas_df9.show()"
   ]
  },
  {
   "cell_type": "code",
   "execution_count": 68,
   "id": "2837cded-1a9e-4983-a1de-d8c4afdd66a0",
   "metadata": {
    "id": "2837cded-1a9e-4983-a1de-d8c4afdd66a0",
    "outputId": "6288a109-4cf8-422d-88fd-74707b5ecf32",
    "tags": []
   },
   "outputs": [
    {
     "data": {
      "image/png": "[encoded data removed]",
      "text/plain": [
       "<Figure size 432x288 with 1 Axes>"
      ]
     },
     "metadata": {},
     "output_type": "display_data"
    }
   ],
   "source": [
    "%%local\n",
    "plt.pie(pandas_df9['count'],  labels = [\"Non-Fraudulent\", \"Fraudulent\"], autopct='%1.1f%%',\n",
    "       colors = [\"#FFA07A\", \"#1E90FF\"])\n",
    "\n",
    "plt.title('Fraudulent Transactions Before Oversampling')\n",
    "plt.axis('equal')\n",
    "plt.show()"
   ]
  },
  {
   "cell_type": "markdown",
   "id": "9420a071-9174-4882-98ff-f4ef05d6e7d2",
   "metadata": {},
   "source": [
    "#Building a random forest model: "
   ]
  },
  {
   "cell_type": "code",
   "execution_count": 69,
   "id": "4aa1ba0e-7205-48b9-a621-b8ec7856a050",
   "metadata": {
    "tags": []
   },
   "outputs": [
    {
     "data": {
      "application/vnd.jupyter.widget-view+json": {
       "model_id": "",
       "version_major": 2,
       "version_minor": 0
      },
      "text/plain": [
       "FloatProgress(value=0.0, bar_style='info', description='Progress:', layout=Layout(height='25px', width='50%'),…"
      ]
     },
     "metadata": {},
     "output_type": "display_data"
    },
    {
     "name": "stdout",
     "output_type": "stream",
     "text": [
      "['amount', 'nameOrig', 'oldbalanceOrg', 'newbalanceOrig', 'nameDest', 'oldbalanceDest', 'newbalanceDest', 'isFraud', 'isFlaggedFraud', 'hour_of_day', 'day', 'CASH_OUT', 'CASH_IN', 'TRANSFER', 'DEBIT', 'PAYMENT', 'Merchant_Orig', 'Customer_Orig', 'Merchant_Dest', 'Customer_Dest', 'morning', 'afternoon', 'evening', 'night']"
     ]
    }
   ],
   "source": [
    "train.columns"
   ]
  },
  {
   "cell_type": "markdown",
   "id": "4f4750e0-eeda-475b-8b0e-9f7838c14eb2",
   "metadata": {},
   "source": [
    "Random Forest Classifier"
   ]
  },
  {
   "cell_type": "code",
   "execution_count": 70,
   "id": "37abaa50-f1fb-446a-8a02-68ee525ea8a6",
   "metadata": {
    "id": "37abaa50-f1fb-446a-8a02-68ee525ea8a6",
    "outputId": "3c7378e6-f3c8-4ea5-bb3e-55902b88bc47",
    "tags": []
   },
   "outputs": [
    {
     "data": {
      "application/vnd.jupyter.widget-view+json": {
       "model_id": "",
       "version_major": 2,
       "version_minor": 0
      },
      "text/plain": [
       "FloatProgress(value=0.0, bar_style='info', description='Progress:', layout=Layout(height='25px', width='50%'),…"
      ]
     },
     "metadata": {},
     "output_type": "display_data"
    },
    {
     "name": "stdout",
     "output_type": "stream",
     "text": [
      "Model accuracy: 0.9986752151271466"
     ]
    }
   ],
   "source": [
    "# random forest\n",
    "from pyspark.ml.classification import RandomForestClassifier\n",
    "from pyspark.ml.feature import VectorAssembler\n",
    "\n",
    "# Define the input features\n",
    "\n",
    "input_cols = ['amount',\n",
    "'nameOrig',\n",
    " 'oldbalanceOrg',\n",
    " 'newbalanceOrig',\n",
    " 'nameDest',\n",
    " 'oldbalanceDest',\n",
    " 'newbalanceDest',\n",
    " 'isFlaggedFraud',\n",
    " 'hour_of_day',\n",
    " 'day',\n",
    " 'CASH_OUT',\n",
    " 'CASH_IN',\n",
    " 'TRANSFER',\n",
    " 'DEBIT',\n",
    " 'PAYMENT',\n",
    " 'Merchant_Orig',\n",
    " 'Customer_Orig',\n",
    " 'Merchant_Dest',\n",
    " 'Customer_Dest',\n",
    " 'morning',\n",
    " 'afternoon',\n",
    " 'evening',\n",
    " 'night']\n",
    "\n",
    "# Create a vector assembler to combine the input features into a single vector column\n",
    "assembler = VectorAssembler(inputCols=input_cols, outputCol='features')\n",
    "\n",
    "# Apply the vector assembler to the training and testing data\n",
    "train_data = assembler.transform(train).select('features', 'isFraud')\n",
    "test_data = assembler.transform(test).select('features', 'isFraud')\n",
    "\n",
    "# Create a random forest classifier\n",
    "rf = RandomForestClassifier(labelCol='isFraud', featuresCol='features', numTrees=100, maxDepth=10)\n",
    "\n",
    "# Train the random forest model on the training data\n",
    "model = rf.fit(train_data)\n",
    "\n",
    "# Use the trained model to make predictions on the testing data\n",
    "predictions = model.transform(test_data)\n",
    "\n",
    "# Evaluate the accuracy of the model\n",
    "from pyspark.ml.evaluation import BinaryClassificationEvaluator\n",
    "evaluator = BinaryClassificationEvaluator(labelCol='isFraud', metricName='areaUnderROC')\n",
    "accuracy = evaluator.evaluate(predictions)\n",
    "print('Model accuracy:', accuracy)\n",
    "\n",
    "\n",
    "\n",
    "\n",
    "\n",
    "\n",
    "\n"
   ]
  },
  {
   "cell_type": "code",
   "execution_count": 71,
   "id": "171cdd2a-477e-4431-9198-54b72ace89b1",
   "metadata": {
    "tags": []
   },
   "outputs": [
    {
     "data": {
      "application/vnd.jupyter.widget-view+json": {
       "model_id": "",
       "version_major": 2,
       "version_minor": 0
      },
      "text/plain": [
       "FloatProgress(value=0.0, bar_style='info', description='Progress:', layout=Layout(height='25px', width='50%'),…"
      ]
     },
     "metadata": {},
     "output_type": "display_data"
    },
    {
     "name": "stdout",
     "output_type": "stream",
     "text": [
      "oldbalanceOrg : 0.24089989311776158\n",
      "newbalanceOrig : 0.15598985564112494\n",
      "amount : 0.13285955357280493\n",
      "TRANSFER : 0.07295905097111487\n",
      "oldbalanceDest : 0.05539257092576984\n",
      "newbalanceDest : 0.05492754344852346\n",
      "PAYMENT : 0.050463682383019313\n",
      "hour_of_day : 0.05038407268936841\n",
      "Merchant_Dest : 0.04639942691236968\n",
      "CASH_IN : 0.04631031620964999\n",
      "CASH_OUT : 0.039958007253188654\n",
      "Customer_Dest : 0.031462433693321266\n",
      "night : 0.00881758319597734\n",
      "day : 0.007481839655305205\n",
      "evening : 0.001967160042923653\n",
      "afternoon : 0.0010845550096934891\n",
      "nameOrig : 0.0009672669471757947\n",
      "nameDest : 0.000952185805299145\n",
      "DEBIT : 0.0003328517300616235\n",
      "morning : 0.00022840400039785428\n",
      "isFlaggedFraud : 0.00016174679514880305\n",
      "Merchant_Orig : 0.0\n",
      "Customer_Orig : 0.0"
     ]
    }
   ],
   "source": [
    "# Get feature importance from the trained model\n",
    "importances = model.featureImportances\n",
    "\n",
    "# Create a list of tuples containing feature names and their importances\n",
    "feature_importances = [(col, imp) for col, imp in zip(input_cols, importances)]\n",
    "\n",
    "# Sort the list of feature importances in descending order by importance score\n",
    "sorted_importances = sorted(feature_importances, key=lambda x: x[1], reverse=True)\n",
    "\n",
    "# Print feature importance scores in descending order\n",
    "for i in range(len(sorted_importances)):\n",
    "    print(sorted_importances[i][0], ':', sorted_importances[i][1])\n"
   ]
  },
  {
   "cell_type": "code",
   "execution_count": 72,
   "id": "0d529b70-0a5d-45a3-a9bf-000a88da8a53",
   "metadata": {
    "tags": []
   },
   "outputs": [
    {
     "data": {
      "application/vnd.jupyter.widget-view+json": {
       "model_id": "",
       "version_major": 2,
       "version_minor": 0
      },
      "text/plain": [
       "FloatProgress(value=0.0, bar_style='info', description='Progress:', layout=Layout(height='25px', width='50%'),…"
      ]
     },
     "metadata": {},
     "output_type": "display_data"
    },
    {
     "name": "stdout",
     "output_type": "stream",
     "text": [
      "Precision: 0.9958505179460942\n",
      "Recall: 0.9778468330235003"
     ]
    }
   ],
   "source": [
    "from pyspark.ml.evaluation import MulticlassClassificationEvaluator\n",
    "\n",
    "# Evaluate precision and recall using MulticlassClassificationEvaluator\n",
    "evaluator = MulticlassClassificationEvaluator(labelCol='isFraud', predictionCol='prediction', metricName='weightedPrecision')\n",
    "precision = evaluator.evaluate(predictions)\n",
    "evaluator = MulticlassClassificationEvaluator(labelCol='isFraud', predictionCol='prediction', metricName='weightedRecall')\n",
    "recall = evaluator.evaluate(predictions)\n",
    "\n",
    "# Print precision and recall\n",
    "print('Precision:', precision)\n",
    "print('Recall:', recall)"
   ]
  },
  {
   "cell_type": "code",
   "execution_count": 73,
   "id": "612210ea-93eb-431f-b348-8a81d1f246cb",
   "metadata": {
    "tags": []
   },
   "outputs": [
    {
     "data": {
      "application/vnd.jupyter.widget-view+json": {
       "model_id": "",
       "version_major": 2,
       "version_minor": 0
      },
      "text/plain": [
       "FloatProgress(value=0.0, bar_style='info', description='Progress:', layout=Layout(height='25px', width='50%'),…"
      ]
     },
     "metadata": {},
     "output_type": "display_data"
    },
    {
     "name": "stdout",
     "output_type": "stream",
     "text": [
      "+-------+----------+------+\n",
      "|isFraud|prediction| count|\n",
      "+-------+----------+------+\n",
      "|      0|       0.0|779366|\n",
      "|      0|       1.0| 17659|\n",
      "|      1|       0.0|    85|\n",
      "|      1|       1.0|  3859|\n",
      "+-------+----------+------+"
     ]
    }
   ],
   "source": [
    "from pyspark.ml.evaluation import MulticlassClassificationEvaluator\n",
    "\n",
    "# Create a multiclass classification evaluator\n",
    "evaluator = MulticlassClassificationEvaluator(labelCol='isFraud', predictionCol='prediction', metricName='accuracy')\n",
    "\n",
    "# Compute the confusion matrix\n",
    "confusion_matrix = predictions.groupBy('isFraud', 'prediction').count().orderBy('isFraud', 'prediction')\n",
    "\n",
    "# Print the confusion matrix\n",
    "confusion_matrix.show()"
   ]
  }
 ],
 "metadata": {
  "colab": {
   "provenance": []
  },
  "kernelspec": {
   "display_name": "PySpark",
   "language": "python",
   "name": "pysparkkernel"
  },
  "language_info": {
   "codemirror_mode": {
    "name": "python",
    "version": 3
   },
   "file_extension": ".py",
   "mimetype": "text/x-python",
   "name": "pyspark",
   "pygments_lexer": "python3"
  }
 },
 "nbformat": 4,
 "nbformat_minor": 5
}
